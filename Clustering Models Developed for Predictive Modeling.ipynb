{
 "cells": [
  {
   "cell_type": "markdown",
   "id": "8e7af361",
   "metadata": {},
   "source": [
    "# Predictive Cluster Models for Crime Victim Analysis:\n",
    "## A. C. Coffin \n",
    "### 11/10/2023\n",
    "### Northwestern Missouri State University\n",
    "### MS Data Analytics Capstone\n",
    "---\n",
    "## Introduction:\n",
    "This section demonstrates the use of two clustering algorythms, K-Means and DBSCAN, on Crime Victim Data gathered from the NYPD and the NCVS Dashboard. The objective is to determine which model is the most successful at predictive clustering using both data sets, and then beginning a process of incremental learning. By taking the model trained on the NCVS data and fitting NYPD data, it is possible to exicute a process known as incremental learning. As crime data is extremily complex utilizing incremental learning will address inconcistencies that are common with crime data. \n",
    "---\n",
    "## Importing packages and Addressing Threads:"
   ]
  },
  {
   "cell_type": "code",
   "execution_count": 121,
   "metadata": {},
   "outputs": [
    {
     "name": "stdout",
     "output_type": "stream",
     "text": [
      "[{'filepath': 'C:\\\\Users\\\\Tower\\\\anaconda3\\\\Library\\\\bin\\\\mkl_rt.1.dll',\n",
      "  'internal_api': 'mkl',\n",
      "  'num_threads': 6,\n",
      "  'prefix': 'mkl_rt',\n",
      "  'threading_layer': 'intel',\n",
      "  'user_api': 'blas',\n",
      "  'version': '2021.4-Product'},\n",
      " {'filepath': 'C:\\\\Users\\\\Tower\\\\anaconda3\\\\Library\\\\bin\\\\libiomp5md.dll',\n",
      "  'internal_api': 'openmp',\n",
      "  'num_threads': 12,\n",
      "  'prefix': 'libiomp',\n",
      "  'user_api': 'openmp',\n",
      "  'version': None},\n",
      " {'filepath': 'C:\\\\Users\\\\Tower\\\\anaconda3\\\\vcomp140.dll',\n",
      "  'internal_api': 'openmp',\n",
      "  'num_threads': 1,\n",
      "  'prefix': 'vcomp',\n",
      "  'user_api': 'openmp',\n",
      "  'version': None}]\n"
     ]
    }
   ],
   "source": [
    "from threadpoolctl import threadpool_info\n",
    "from pprint import pprint\n",
    "import numpy\n",
    "pprint(threadpool_info())\n"
   ]
  },
  {
   "cell_type": "code",
   "execution_count": 122,
   "metadata": {},
   "outputs": [
    {
     "name": "stdout",
     "output_type": "stream",
     "text": [
      "[{'filepath': 'C:\\\\Users\\\\Tower\\\\anaconda3\\\\Library\\\\bin\\\\mkl_rt.1.dll',\n",
      "  'internal_api': 'mkl',\n",
      "  'num_threads': 6,\n",
      "  'prefix': 'mkl_rt',\n",
      "  'threading_layer': 'intel',\n",
      "  'user_api': 'blas',\n",
      "  'version': '2021.4-Product'},\n",
      " {'filepath': 'C:\\\\Users\\\\Tower\\\\anaconda3\\\\Library\\\\bin\\\\libiomp5md.dll',\n",
      "  'internal_api': 'openmp',\n",
      "  'num_threads': 12,\n",
      "  'prefix': 'libiomp',\n",
      "  'user_api': 'openmp',\n",
      "  'version': None},\n",
      " {'filepath': 'C:\\\\Users\\\\Tower\\\\anaconda3\\\\vcomp140.dll',\n",
      "  'internal_api': 'openmp',\n",
      "  'num_threads': 1,\n",
      "  'prefix': 'vcomp',\n",
      "  'user_api': 'openmp',\n",
      "  'version': None}]\n"
     ]
    }
   ],
   "source": [
    "import os\n",
    "os.environ[\"OMP_NUM_THREADS\"] = \"1\"\n",
    "pprint(threadpool_info())"
   ]
  },
  {
   "cell_type": "code",
   "execution_count": 123,
   "metadata": {},
   "outputs": [],
   "source": [
    "import pandas as pd\n",
    "import matplotlib.pyplot as plt\n",
    "from sklearn.datasets import make_blobs\n",
    "from sklearn.cluster import KMeans\n",
    "from sklearn.metrics import silhouette_score\n",
    "from sklearn.preprocessing import StandardScaler\n",
    "import seaborn as sns\n",
    "import numpy as np\n",
    "import warnings\n",
    "warnings.filterwarnings(\"default\")"
   ]
  },
  {
   "cell_type": "markdown",
   "metadata": {},
   "source": [
    "# Pre-Processing:\n",
    "All of the data within these crime sets is catagorical in nature and as a result was proceed differently. Part of pre-processing was grouping crime types together, as well as removing those which didn't apply to specific models. When addressing the grouping of data within the NYPD dataset, crimes were coordinated based on the general type of crime and severity. The grouping of key codes is explained in the following table, along with thier offense description. The data pulled from the NCVS pertains to mainly Personal Crimes, such as sexual assault, robbery, aggrivated assault and simple assault. In order to make the data found within the NYPD data to be compatible with the incremental learning to occur, these crimes were once again grouped and sorted based on the types found in the NCVS data. Data pertaining to age groups has already been seperated, with an adjustment made to the NCVS data to group minors together as that data in particular breaks the age groups apart indepth. All null values found within the NYPD data for age have been removed, it was included within analysis to visualize the amount of known data in comparison to the unknown within the filtered set.\n",
    "\n",
    "## Modifications Made to both NCVS and NYPD Data:\n",
    "Please see the following charts for the modified ML sets. Each of these set was exported from the SQL server independently and labeled ML for this specific section of the project. Victims with a listed age of N/A were put into class 6 for Age_GM. This is in response to how depending on the crime victim ages are ommited for safety, espcially since the NYPD data has associated case numbers in the original set. \n",
    "\n",
    "Modifications to Age Groups within the NCVS data is as follows:\n",
    "|AGE_GM|NCVS Age Groups|New Range|\n",
    "|:---|:---|:---|\n",
    "|1 |12-14, 15-17| >18|\n",
    "|2 |18-20, 21-24| 18-25|\n",
    "|3 |25-34, 35-49| 25-49|\n",
    "|4 |50-64| 50-64|\n",
    "|5 | 65+ | 65+|\n",
    "|5 |Unknown| Unknown|\n",
    "\n",
    "Modifications to NYPD data as NCIC Codes and CT_M:\n",
    "|NCIC|KY_CD|OFNS_DESC|CT_M|CT_M Meaning\n",
    "|:---|:---|:---|:---|:---|\n",
    "|1011 |104, 115, 116, 235|Sex Crimes| 2| Violent Crime Except Simple Assault|\n",
    "|1201 |105, 107, 109-113, 231, 313, 340-343| Robbery/Fraud| 2| Violent Crime Except Simple Assault|\n",
    "|1301 |101, 103, 106, 114| Homicide/Aggrivated Assault| 2| Violent Crime Except Simple Assault|\n",
    "|1313 |344, 578, 230, 355| Simple Assault/Related Crimes| 1| Simple Assault|\n",
    "\n",
    "Data pertaining to Public or Society Crimes, such as driving under the influence, traffic violations, child abandonment, pocession of a deadly weapon or drug pocessions have been removed from this data. This was done as the NCVS data pulled only pertains to Personal Crimes. This data was utilized both through the initial run of the models and again when being fitted to the selected NCVS model. The only difference is that when the NYPD data was fitted to the NCVS model the NCIC model was used. This was to demonstrate the differences between the sets as a whole. \n",
    "\n",
    "---\n",
    "# NCVS Baseline:\n",
    "As this Analysis relies heavily on the comparison of National Data to Regional Data to explore crime in america as well as demonstrate a possible application of machine learning, creating a baseline is critical. For this section each of the models has been run three times on the pre-processed NCVS data. There are two major data sets which will be used, the first being the NCVS_RegionalML Data, and the second being the NCVS_AgeSegML. \n",
    "\n",
    "## Importing NCVS Data:\n",
    "All data for each of the sets being analysize has been brought in independently to decrease processing load.\n"
   ]
  },
  {
   "cell_type": "code",
   "execution_count": 131,
   "metadata": {},
   "outputs": [],
   "source": [
    "NCVS_AgeSeg = pd.read_csv('Data/ML_PreProcess/NCVS_AgeSegML.csv')\n",
    "NCVS_Region = pd.read_csv('Data/ML_PreProcess/NCVS_RegionSegML.csv')\n"
   ]
  },
  {
   "cell_type": "code",
   "execution_count": 132,
   "metadata": {},
   "outputs": [
    {
     "name": "stdout",
     "output_type": "stream",
     "text": [
      "<class 'pandas.core.frame.DataFrame'>\n",
      "RangeIndex: 960 entries, 0 to 959\n",
      "Data columns (total 4 columns):\n",
      " #   Column   Non-Null Count  Dtype\n",
      "---  ------   --------------  -----\n",
      " 0   rpt_dt   960 non-null    int64\n",
      " 1   age_gm   960 non-null    int64\n",
      " 2   ncic     960 non-null    int64\n",
      " 3   vic_num  960 non-null    int64\n",
      "dtypes: int64(4)\n",
      "memory usage: 30.1 KB\n"
     ]
    }
   ],
   "source": [
    "NCVS_AgeSeg.info()"
   ]
  },
  {
   "cell_type": "code",
   "execution_count": 133,
   "metadata": {},
   "outputs": [
    {
     "name": "stdout",
     "output_type": "stream",
     "text": [
      "<class 'pandas.core.frame.DataFrame'>\n",
      "RangeIndex: 432 entries, 0 to 431\n",
      "Data columns (total 4 columns):\n",
      " #   Column    Non-Null Count  Dtype\n",
      "---  ------    --------------  -----\n",
      " 0   rpt_dt    432 non-null    int64\n",
      " 1   region_m  432 non-null    int64\n",
      " 2   ncic      432 non-null    int64\n",
      " 3   vic_num   432 non-null    int64\n",
      "dtypes: int64(4)\n",
      "memory usage: 13.6 KB\n"
     ]
    }
   ],
   "source": [
    "NCVS_Region.info()"
   ]
  },
  {
   "cell_type": "code",
   "execution_count": 134,
   "metadata": {},
   "outputs": [
    {
     "data": {
      "text/html": [
       "<div>\n",
       "<style scoped>\n",
       "    .dataframe tbody tr th:only-of-type {\n",
       "        vertical-align: middle;\n",
       "    }\n",
       "\n",
       "    .dataframe tbody tr th {\n",
       "        vertical-align: top;\n",
       "    }\n",
       "\n",
       "    .dataframe thead th {\n",
       "        text-align: right;\n",
       "    }\n",
       "</style>\n",
       "<table border=\"1\" class=\"dataframe\">\n",
       "  <thead>\n",
       "    <tr style=\"text-align: right;\">\n",
       "      <th></th>\n",
       "      <th>rpt_dt</th>\n",
       "      <th>age_gm</th>\n",
       "      <th>ncic</th>\n",
       "      <th>vic_num</th>\n",
       "    </tr>\n",
       "  </thead>\n",
       "  <tbody>\n",
       "    <tr>\n",
       "      <th>0</th>\n",
       "      <td>1993</td>\n",
       "      <td>1</td>\n",
       "      <td>1101</td>\n",
       "      <td>47196</td>\n",
       "    </tr>\n",
       "    <tr>\n",
       "      <th>1</th>\n",
       "      <td>1994</td>\n",
       "      <td>1</td>\n",
       "      <td>1101</td>\n",
       "      <td>49561</td>\n",
       "    </tr>\n",
       "  </tbody>\n",
       "</table>\n",
       "</div>"
      ],
      "text/plain": [
       "   rpt_dt  age_gm  ncic  vic_num\n",
       "0    1993       1  1101    47196\n",
       "1    1994       1  1101    49561"
      ]
     },
     "execution_count": 134,
     "metadata": {},
     "output_type": "execute_result"
    }
   ],
   "source": [
    "# file over view\n",
    "NCVS_AgeSeg.head(2)"
   ]
  },
  {
   "cell_type": "code",
   "execution_count": 135,
   "metadata": {},
   "outputs": [
    {
     "name": "stdout",
     "output_type": "stream",
     "text": [
      "     rpt_dt      ncic   vic_num\n",
      "0 -1.675247 -1.492819 -0.415364\n",
      "1 -1.559712 -1.492819 -0.401682\n",
      "2 -1.444178 -1.492819 -0.467381\n",
      "3 -1.328644 -1.492819 -0.524113\n",
      "4 -1.213110 -1.492819 -0.394710\n"
     ]
    }
   ],
   "source": [
    "# Dropping rows with NA values in any columns\n",
    "NCVS_AgeSeg.dropna()\n",
    "\n",
    "# Creating a scaled df where each value has a mean of 0 and stdev of 1\n",
    "from sklearn import preprocessing\n",
    "scaler = StandardScaler()\n",
    "scaler.fit(NCVS_AgeSeg.drop('age_gm', axis=1))\n",
    "SC_NCVS_AgeSeg= scaler.transform(NCVS_AgeSeg.drop('age_gm',axis=1))\n",
    "\n",
    "#Transforming into df\n",
    "SC_NCVS_AgeSeg = pd.DataFrame(SC_NCVS_AgeSeg, columns = NCVS_AgeSeg.drop('age_gm', axis = 1).columns)\n",
    "\n",
    "#Review scaled rows of the df\n",
    "print(SC_NCVS_AgeSeg[:5])"
   ]
  },
  {
   "cell_type": "code",
   "execution_count": 136,
   "metadata": {},
   "outputs": [
    {
     "data": {
      "text/html": [
       "<div>\n",
       "<style scoped>\n",
       "    .dataframe tbody tr th:only-of-type {\n",
       "        vertical-align: middle;\n",
       "    }\n",
       "\n",
       "    .dataframe tbody tr th {\n",
       "        vertical-align: top;\n",
       "    }\n",
       "\n",
       "    .dataframe thead th {\n",
       "        text-align: right;\n",
       "    }\n",
       "</style>\n",
       "<table border=\"1\" class=\"dataframe\">\n",
       "  <thead>\n",
       "    <tr style=\"text-align: right;\">\n",
       "      <th></th>\n",
       "      <th>rpt_dt</th>\n",
       "      <th>region_m</th>\n",
       "      <th>ncic</th>\n",
       "      <th>vic_num</th>\n",
       "    </tr>\n",
       "  </thead>\n",
       "  <tbody>\n",
       "    <tr>\n",
       "      <th>0</th>\n",
       "      <td>1996</td>\n",
       "      <td>2</td>\n",
       "      <td>1101</td>\n",
       "      <td>145675</td>\n",
       "    </tr>\n",
       "    <tr>\n",
       "      <th>1</th>\n",
       "      <td>1997</td>\n",
       "      <td>2</td>\n",
       "      <td>1101</td>\n",
       "      <td>210209</td>\n",
       "    </tr>\n",
       "  </tbody>\n",
       "</table>\n",
       "</div>"
      ],
      "text/plain": [
       "   rpt_dt  region_m  ncic  vic_num\n",
       "0    1996         2  1101   145675\n",
       "1    1997         2  1101   210209"
      ]
     },
     "execution_count": 136,
     "metadata": {},
     "output_type": "execute_result"
    }
   ],
   "source": [
    "# file over view for Region\n",
    "NCVS_Region.head(2)"
   ]
  },
  {
   "cell_type": "code",
   "execution_count": 137,
   "metadata": {},
   "outputs": [
    {
     "name": "stdout",
     "output_type": "stream",
     "text": [
      "       rpt_dt      ncic   vic_num\n",
      "0   -1.669046 -1.492819 -0.290022\n",
      "1   -1.540658 -1.492819 -0.023054\n",
      "2   -1.412270 -1.492819 -0.394465\n",
      "3   -1.283881 -1.492819 -0.297837\n",
      "4   -1.155493 -1.492819 -0.627759\n",
      "..        ...       ...       ...\n",
      "427  1.155493  0.979663  0.200212\n",
      "428  1.283881  0.979663  0.339144\n",
      "429  1.412270  0.979663 -0.051218\n",
      "430  1.540658  0.979663 -0.060902\n",
      "431  1.669046  0.979663  0.688522\n",
      "\n",
      "[432 rows x 3 columns]\n"
     ]
    }
   ],
   "source": [
    "# Dropping rows with NA values in any columns\n",
    "NCVS_Region.dropna()\n",
    "\n",
    "# Creating a scaled df where each value has a mean of 0 and stdev of 1\n",
    "scaler = StandardScaler()\n",
    "scaler.fit(NCVS_Region.drop('region_m', axis=1))\n",
    "SC_NCVSRegion = scaler.transform(NCVS_Region.drop('region_m', axis=1))\n",
    "\n",
    "# Transforming into df\n",
    "SC_NCVSRegion = pd.DataFrame(SC_NCVSRegion, columns= NCVS_Region.drop('region_m', axis=1).columns)\n",
    "\n",
    "#Review scaled rows of the df\n",
    "print(SC_NCVSRegion)"
   ]
  },
  {
   "cell_type": "markdown",
   "metadata": {},
   "source": [
    "## K Nearest Neighbors:\n",
    "This is a form of supervised learning, that was applied to get a sense of how the data will cluster and respond to clustering. While supervised learning is not typically applied to crime data, in this case it is applicable as one of the objectives was to understand the relationship between age and the types of crime among female victims. \n",
    "\n"
   ]
  },
  {
   "cell_type": "code",
   "execution_count": 138,
   "metadata": {},
   "outputs": [
    {
     "name": "stderr",
     "output_type": "stream",
     "text": [
      "c:\\Users\\Tower\\anaconda3\\lib\\site-packages\\sklearn\\cluster\\_kmeans.py:870: FutureWarning: The default value of `n_init` will change from 10 to 'auto' in 1.4. Set the value of `n_init` explicitly to suppress the warning\n",
      "  warnings.warn(\n",
      "c:\\Users\\Tower\\anaconda3\\lib\\site-packages\\sklearn\\cluster\\_kmeans.py:870: FutureWarning: The default value of `n_init` will change from 10 to 'auto' in 1.4. Set the value of `n_init` explicitly to suppress the warning\n",
      "  warnings.warn(\n",
      "c:\\Users\\Tower\\anaconda3\\lib\\site-packages\\sklearn\\cluster\\_kmeans.py:870: FutureWarning: The default value of `n_init` will change from 10 to 'auto' in 1.4. Set the value of `n_init` explicitly to suppress the warning\n",
      "  warnings.warn(\n",
      "c:\\Users\\Tower\\anaconda3\\lib\\site-packages\\sklearn\\cluster\\_kmeans.py:870: FutureWarning: The default value of `n_init` will change from 10 to 'auto' in 1.4. Set the value of `n_init` explicitly to suppress the warning\n",
      "  warnings.warn(\n",
      "c:\\Users\\Tower\\anaconda3\\lib\\site-packages\\sklearn\\cluster\\_kmeans.py:870: FutureWarning: The default value of `n_init` will change from 10 to 'auto' in 1.4. Set the value of `n_init` explicitly to suppress the warning\n",
      "  warnings.warn(\n",
      "c:\\Users\\Tower\\anaconda3\\lib\\site-packages\\sklearn\\cluster\\_kmeans.py:870: FutureWarning: The default value of `n_init` will change from 10 to 'auto' in 1.4. Set the value of `n_init` explicitly to suppress the warning\n",
      "  warnings.warn(\n",
      "c:\\Users\\Tower\\anaconda3\\lib\\site-packages\\sklearn\\cluster\\_kmeans.py:870: FutureWarning: The default value of `n_init` will change from 10 to 'auto' in 1.4. Set the value of `n_init` explicitly to suppress the warning\n",
      "  warnings.warn(\n",
      "c:\\Users\\Tower\\anaconda3\\lib\\site-packages\\sklearn\\cluster\\_kmeans.py:870: FutureWarning: The default value of `n_init` will change from 10 to 'auto' in 1.4. Set the value of `n_init` explicitly to suppress the warning\n",
      "  warnings.warn(\n",
      "c:\\Users\\Tower\\anaconda3\\lib\\site-packages\\sklearn\\cluster\\_kmeans.py:870: FutureWarning: The default value of `n_init` will change from 10 to 'auto' in 1.4. Set the value of `n_init` explicitly to suppress the warning\n",
      "  warnings.warn(\n"
     ]
    },
    {
     "data": {
      "image/png": "[encoded data removed]",
      "text/plain": [
       "<Figure size 2000x1000 with 1 Axes>"
      ]
     },
     "metadata": {},
     "output_type": "display_data"
    }
   ],
   "source": [
    "from sklearn.cluster import KMeans\n",
    "import matplotlib.pyplot as plt\n",
    "%matplotlib inline\n",
    "\n",
    "wcss = []\n",
    "for i in range (1, 10):\n",
    "    kmeans = KMeans(n_clusters = i, init = 'k-means++', random_state = 42)\n",
    "    kmeans.fit(SC_NCVS_AgeSeg)\n",
    "    wcss.append(kmeans.inertia_) # establishing criteria for clustering\n",
    "\n",
    "plt.plot(range(1, 10), wcss, 'bx-')\n",
    "plt.title('NCVS AgeSeg Elbow Method')\n",
    "plt.xlabel('Number of Clusters')\n",
    "plt.ylabel('WCSS')\n",
    "plt.show()"
   ]
  },
  {
   "cell_type": "code",
   "execution_count": 139,
   "metadata": {},
   "outputs": [],
   "source": [
    "# Creating a split\n",
    "from sklearn.model_selection import train_test_split\n",
    "from sklearn.neighbors import KNeighborsClassifier\n",
    "X = SC_NCVS_AgeSeg\n",
    "y = NCVS_AgeSeg['age_gm']\n",
    "\n",
    "# Creating test split with 20% of data:\n",
    "X_training_data, X_test_data, y_training_data, y_test_data = train_test_split(X, y, test_size = 0.2)\n",
    "\n"
   ]
  },
  {
   "cell_type": "markdown",
   "metadata": {},
   "source": [
    "Based on the graph, the optimal number of clusters is 4, as this is when the slope of the line changes the most. This will be utilized later when running a K-Means Model. While it is not central to a KNN analysis it does serve as a possible guide as to the number to use for K. "
   ]
  },
  {
   "cell_type": "code",
   "execution_count": 140,
   "metadata": {},
   "outputs": [
    {
     "data": {
      "text/html": [
       "<style>#sk-container-id-29 {color: black;background-color: white;}#sk-container-id-29 pre{padding: 0;}#sk-container-id-29 div.sk-toggleable {background-color: white;}#sk-container-id-29 label.sk-toggleable__label {cursor: pointer;display: block;width: 100%;margin-bottom: 0;padding: 0.3em;box-sizing: border-box;text-align: center;}#sk-container-id-29 label.sk-toggleable__label-arrow:before {content: \"▸\";float: left;margin-right: 0.25em;color: #696969;}#sk-container-id-29 label.sk-toggleable__label-arrow:hover:before {color: black;}#sk-container-id-29 div.sk-estimator:hover label.sk-toggleable__label-arrow:before {color: black;}#sk-container-id-29 div.sk-toggleable__content {max-height: 0;max-width: 0;overflow: hidden;text-align: left;background-color: #f0f8ff;}#sk-container-id-29 div.sk-toggleable__content pre {margin: 0.2em;color: black;border-radius: 0.25em;background-color: #f0f8ff;}#sk-container-id-29 input.sk-toggleable__control:checked~div.sk-toggleable__content {max-height: 200px;max-width: 100%;overflow: auto;}#sk-container-id-29 input.sk-toggleable__control:checked~label.sk-toggleable__label-arrow:before {content: \"▾\";}#sk-container-id-29 div.sk-estimator input.sk-toggleable__control:checked~label.sk-toggleable__label {background-color: #d4ebff;}#sk-container-id-29 div.sk-label input.sk-toggleable__control:checked~label.sk-toggleable__label {background-color: #d4ebff;}#sk-container-id-29 input.sk-hidden--visually {border: 0;clip: rect(1px 1px 1px 1px);clip: rect(1px, 1px, 1px, 1px);height: 1px;margin: -1px;overflow: hidden;padding: 0;position: absolute;width: 1px;}#sk-container-id-29 div.sk-estimator {font-family: monospace;background-color: #f0f8ff;border: 1px dotted black;border-radius: 0.25em;box-sizing: border-box;margin-bottom: 0.5em;}#sk-container-id-29 div.sk-estimator:hover {background-color: #d4ebff;}#sk-container-id-29 div.sk-parallel-item::after {content: \"\";width: 100%;border-bottom: 1px solid gray;flex-grow: 1;}#sk-container-id-29 div.sk-label:hover label.sk-toggleable__label {background-color: #d4ebff;}#sk-container-id-29 div.sk-serial::before {content: \"\";position: absolute;border-left: 1px solid gray;box-sizing: border-box;top: 0;bottom: 0;left: 50%;z-index: 0;}#sk-container-id-29 div.sk-serial {display: flex;flex-direction: column;align-items: center;background-color: white;padding-right: 0.2em;padding-left: 0.2em;position: relative;}#sk-container-id-29 div.sk-item {position: relative;z-index: 1;}#sk-container-id-29 div.sk-parallel {display: flex;align-items: stretch;justify-content: center;background-color: white;position: relative;}#sk-container-id-29 div.sk-item::before, #sk-container-id-29 div.sk-parallel-item::before {content: \"\";position: absolute;border-left: 1px solid gray;box-sizing: border-box;top: 0;bottom: 0;left: 50%;z-index: -1;}#sk-container-id-29 div.sk-parallel-item {display: flex;flex-direction: column;z-index: 1;position: relative;background-color: white;}#sk-container-id-29 div.sk-parallel-item:first-child::after {align-self: flex-end;width: 50%;}#sk-container-id-29 div.sk-parallel-item:last-child::after {align-self: flex-start;width: 50%;}#sk-container-id-29 div.sk-parallel-item:only-child::after {width: 0;}#sk-container-id-29 div.sk-dashed-wrapped {border: 1px dashed gray;margin: 0 0.4em 0.5em 0.4em;box-sizing: border-box;padding-bottom: 0.4em;background-color: white;}#sk-container-id-29 div.sk-label label {font-family: monospace;font-weight: bold;display: inline-block;line-height: 1.2em;}#sk-container-id-29 div.sk-label-container {text-align: center;}#sk-container-id-29 div.sk-container {/* jupyter's `normalize.less` sets `[hidden] { display: none; }` but bootstrap.min.css set `[hidden] { display: none !important; }` so we also need the `!important` here to be able to override the default hidden behavior on the sphinx rendered scikit-learn.org. See: https://github.com/scikit-learn/scikit-learn/issues/21755 */display: inline-block !important;position: relative;}#sk-container-id-29 div.sk-text-repr-fallback {display: none;}</style><div id=\"sk-container-id-29\" class=\"sk-top-container\"><div class=\"sk-text-repr-fallback\"><pre>KNeighborsClassifier(n_neighbors=4)</pre><b>In a Jupyter environment, please rerun this cell to show the HTML representation or trust the notebook. <br />On GitHub, the HTML representation is unable to render, please try loading this page with nbviewer.org.</b></div><div class=\"sk-container\" hidden><div class=\"sk-item\"><div class=\"sk-estimator sk-toggleable\"><input class=\"sk-toggleable__control sk-hidden--visually\" id=\"sk-estimator-id-29\" type=\"checkbox\" checked><label for=\"sk-estimator-id-29\" class=\"sk-toggleable__label sk-toggleable__label-arrow\">KNeighborsClassifier</label><div class=\"sk-toggleable__content\"><pre>KNeighborsClassifier(n_neighbors=4)</pre></div></div></div></div></div>"
      ],
      "text/plain": [
       "KNeighborsClassifier(n_neighbors=4)"
      ]
     },
     "execution_count": 140,
     "metadata": {},
     "output_type": "execute_result"
    }
   ],
   "source": [
    "# AgeSeg cluster Analysis:\n",
    "# Fitting K-Means to the set\n",
    "# Training the model:\n",
    "#model = KMeans(n_clusters = 4, init = 'k-means++', random_state=123)\n",
    "model1 = KNeighborsClassifier(n_neighbors = 4)\n",
    "model1.fit(X_training_data, y_training_data)\n",
    "\n",
    "#model = KMeans(n_clusters = 5, init = 'k-means++', random_state=42)\n",
    "\n",
    "\n",
    "#y_pred = model.fit_predict(y_test_data)\n",
    "#y_pred"
   ]
  },
  {
   "cell_type": "code",
   "execution_count": 141,
   "metadata": {},
   "outputs": [
    {
     "data": {
      "text/plain": [
       "array([2, 2, 1, 1, 1, 2, 1, 2, 2, 1, 2, 1, 1, 1, 1, 2, 4, 3, 4, 2, 1, 2,\n",
       "       1, 2, 3, 2, 4, 1, 1, 3, 5, 1, 3, 3, 1, 1, 5, 2, 1, 1, 2, 3, 2, 1,\n",
       "       1, 1, 1, 3, 1, 3, 2, 1, 2, 5, 1, 1, 2, 1, 2, 5, 1, 1, 4, 1, 4, 1,\n",
       "       3, 1, 3, 3, 1, 3, 1, 5, 1, 1, 2, 2, 2, 3, 1, 3, 3, 1, 1, 2, 3, 3,\n",
       "       1, 5, 1, 3, 5, 2, 5, 3, 3, 1, 2, 3, 2, 5, 4, 1, 1, 1, 5, 2, 3, 2,\n",
       "       3, 3, 2, 1, 2, 2, 2, 1, 5, 3, 1, 3, 2, 2, 1, 3, 3, 3, 1, 1, 2, 1,\n",
       "       1, 5, 3, 5, 3, 2, 5, 1, 3, 1, 1, 2, 3, 2, 3, 1, 3, 1, 2, 2, 2, 3,\n",
       "       3, 3, 3, 2, 4, 3, 2, 3, 3, 3, 4, 3, 3, 1, 2, 4, 3, 4, 4, 1, 4, 1,\n",
       "       1, 3, 1, 2, 2, 1, 1, 1, 1, 2, 3, 1, 3, 1, 2, 3], dtype=int64)"
      ]
     },
     "execution_count": 141,
     "metadata": {},
     "output_type": "execute_result"
    }
   ],
   "source": [
    "predict1 = model1.predict(X_test_data)\n",
    "predict1"
   ]
  },
  {
   "cell_type": "markdown",
   "metadata": {},
   "source": [
    "## Confusion Matrix for NCVS_AgeSeg"
   ]
  },
  {
   "cell_type": "code",
   "execution_count": 142,
   "metadata": {},
   "outputs": [
    {
     "name": "stdout",
     "output_type": "stream",
     "text": [
      "[[20 14  3  3  6]\n",
      " [19 10 10  2  0]\n",
      " [ 8 16 30  2  0]\n",
      " [ 7  5  7  2  3]\n",
      " [15  2  0  3  5]]\n",
      "              precision    recall  f1-score   support\n",
      "\n",
      "           1       0.29      0.43      0.35        46\n",
      "           2       0.21      0.24      0.23        41\n",
      "           3       0.60      0.54      0.57        56\n",
      "           4       0.17      0.08      0.11        24\n",
      "           5       0.36      0.20      0.26        25\n",
      "\n",
      "    accuracy                           0.35       192\n",
      "   macro avg       0.33      0.30      0.30       192\n",
      "weighted avg       0.36      0.35      0.34       192\n",
      "\n"
     ]
    }
   ],
   "source": [
    "from sklearn.metrics import classification_report\n",
    "from sklearn.metrics import confusion_matrix\n",
    "print(confusion_matrix(y_test_data, predict1))\n",
    "print(classification_report(y_test_data, predict1 ))"
   ]
  },
  {
   "cell_type": "code",
   "execution_count": 143,
   "metadata": {},
   "outputs": [
    {
     "name": "stdout",
     "output_type": "stream",
     "text": [
      "[[20 14  3  3  6]\n",
      " [19 10 10  2  0]\n",
      " [ 8 16 30  2  0]\n",
      " [ 7  5  7  2  3]\n",
      " [15  2  0  3  5]]\n"
     ]
    }
   ],
   "source": [
    "print(confusion_matrix(y_test_data, predict1))"
   ]
  },
  {
   "cell_type": "markdown",
   "metadata": {},
   "source": [
    "## Examining KNN Performance for NCVS AgeSeg:\n",
    "The performance of KNN on this model was highly dependent on the alteration of K. Initially the model was performed with k=1, and as the data was sifted through the number of k was altered. The reason for this was to determine if there was a connection between the number of clusters that performed the best with KNN, which was developed to examine data clustering based on proximity. As K increases, the model becomes more stable. However, it is important to note that it is easy for this model to over fit, and as a response to this the data has been recorded in the table below as the number of k increases, so does the precision, and f-score. Each of the entries contains the Accuracy Rating for each, both macro average (mac) and weighted average (wa) are also included.\n",
    "\n",
    "| Data | Model Type | K Number | Precision | Recall | f1-score |\n",
    "|:---|:---|:---|:---|:---|:---|:---|:---|:---|\n",
    "| NCVS_AgeSeg | KNN | k=1 | mac: 0.30, wa: 0.32| mac: 0.29, wa: 0.30 | accuracy: 0.30, mac: 0.30, wa: 0.31 |\n",
    "| NCVS_AgeSeg | KNN | k=2 | mac: 0.34, wa: 0.33| mac: 0.26, wa: 0.30 | accuracy: 0.30, mac: 0.26, wa: 0.29 |\n",
    "| NCVS_AgeSeg | KNN | k=3 | mac: 0.40, wa: 0.38| mac: 0.31, wa: 0.32 | accuracy: 0.32, mac: 0.33, wa: 0.33 |\n",
    "| NCVS_AgeSeg | KNN | k=4 | mac: 0.40, wa: 0.37| mac: 0.33, wa: 0.33 | accuracy: 0.33, mac: 0.35, wa: 0.34 |\n",
    "| NCVS_AgeSeg | KNN | k=5 | mac: 0.38, wa: 0.36| mac: 0.29, wa: 0.31 | accuracy: 0.31, mac: 0.31, wa: 0.32 |\n",
    "| NCVS_AgeSeg | KNN | k=6 | mac: 0.35, wa: 0.35| mac: 0.26, wa: 0.30 | accuracy: 0.30, mac: 0.26, wa: 0.29 |\n",
    "\n",
    "The best performing k metric was 4. This is consistent with the initial sillohette test that was performed. However, it is important to note that the over all performance of the KNN model was poor. As a whole it was only able to predict a crime occuring within an age group 33% of the time. Even as the k metric increases it's improtant to note that the precision and recall both decreased. The Recall for this class was also loq, as out of all the instances of the target class, the model could only find an example of a specific age group approximatly 33% of the time. The f-score for the model is slightly improved when examining the weighted average, which takes into considered the average based on the proportion for each label in the set. However, this only sits at 34%, which is a far cry for accuracy.\n",
    "\n",
    "## Error Rates:\n",
    "Error rates can indicated where a model is failing in terms of KNN. In this instance the error rates tend to be minimized with a K value of 3, which is slightly different when compared to the silhouette analysis performed earlier to establish the number of centroids requried to analysize the data for this model. "
   ]
  },
  {
   "cell_type": "code",
   "execution_count": null,
   "metadata": {},
   "outputs": [],
   "source": [
    "from sklearn.model_selection import cross_val_score\n",
    "k_values = [i for i in range (1, 10)]\n",
    "scores = []\n",
    "\n",
    "X = scaler.fit_transform(X)\n",
    "\n",
    "for k in k_values:\n",
    "    knn = KNeighborsClassifier(n_neighbors=k)\n",
    "    score = cross_val_score(knn, X, y, cv=5)\n",
    "    scores.append(np.mean(score))\n",
    "\n",
    "sns.lineplot(x = k_values, y = scores, marker = 'o')\n",
    "plt.xlabel('K Values')\n",
    "plt.ylabel('Accuracy Score')"
   ]
  },
  {
   "cell_type": "code",
   "execution_count": null,
   "metadata": {},
   "outputs": [],
   "source": [
    "# Error Rates\n",
    "error_rates=[]\n",
    "\n",
    "for i in range (1, 10):\n",
    "    new_mod = KNeighborsClassifier(n_neighbors = i)\n",
    "    new_mod.fit(X_training_data, y_training_data)\n",
    "    pred2 = new_mod.predict(X_test_data)\n",
    "    error_rates.append(np.mean(pred2 != y_test_data))\n",
    "plt.title(\"Error Rates for AgeSeg KNN\")\n",
    "plt.plot(error_rates)\n"
   ]
  },
  {
   "cell_type": "markdown",
   "metadata": {},
   "source": [
    "# NCVS Regional Data: \n",
    "When examining Regional Data the same pipeline was applied, the model has been modified in the cells to run the other data set that represents national data.\n"
   ]
  },
  {
   "cell_type": "code",
   "execution_count": null,
   "metadata": {},
   "outputs": [],
   "source": [
    "# Creating a split\n",
    "# All splits are 20% test, 80% train\n",
    "from sklearn.model_selection import train_test_split\n",
    "from sklearn.neighbors import KNeighborsClassifier\n",
    "X = SC_NCVSRegion\n",
    "y = NCVS_Region['region_m']\n",
    "\n",
    "# Creating test split with 20% of data:\n",
    "X_training_data, X_test_data, y_training_data, y_test_data = train_test_split(X, y, test_size = 0.2)\n",
    "\n",
    "# AgeSeg cluster Analysis:\n",
    "# Training the model:\n",
    "model2 = KNeighborsClassifier(n_neighbors = 6)\n",
    "model2.fit(X_training_data, y_training_data)\n",
    "\n",
    "\n"
   ]
  },
  {
   "cell_type": "code",
   "execution_count": null,
   "metadata": {},
   "outputs": [],
   "source": [
    "predict1 = model2.predict(X_test_data)\n",
    "predict1\n",
    "\n",
    "from sklearn.metrics import classification_report\n",
    "from sklearn.metrics import confusion_matrix\n",
    "print(confusion_matrix(y_test_data, predict1))\n",
    "print(classification_report(y_test_data, predict1 ))"
   ]
  },
  {
   "cell_type": "code",
   "execution_count": null,
   "metadata": {},
   "outputs": [],
   "source": [
    "from sklearn.model_selection import cross_val_score\n",
    "k_values = [i for i in range (1, 10)]\n",
    "scores = []\n",
    "\n",
    "X = scaler.fit_transform(X)\n",
    "\n",
    "for k in k_values:\n",
    "    knn = KNeighborsClassifier(n_neighbors=k)\n",
    "    score = cross_val_score(knn, X, y, cv=5)\n",
    "    scores.append(np.mean(score))\n",
    "\n",
    "sns.lineplot(x = k_values, y = scores, marker = 'o')\n",
    "plt.xlabel('K Values')\n",
    "plt.ylabel('Accuracy Score')"
   ]
  },
  {
   "cell_type": "code",
   "execution_count": null,
   "metadata": {},
   "outputs": [],
   "source": [
    "# Error Rates\n",
    "error_rates=[]\n",
    "\n",
    "for i in range (1, 10):\n",
    "    new_mod = KNeighborsClassifier(n_neighbors = i)\n",
    "    new_mod.fit(X_training_data, y_training_data)\n",
    "    pred2 = new_mod.predict(X_test_data)\n",
    "    error_rates.append(np.mean(pred2 != y_test_data))\n",
    "plt.title(\"Error Rates for Region KNN\")\n",
    "plt.plot(error_rates)"
   ]
  },
  {
   "cell_type": "markdown",
   "metadata": {},
   "source": [
    "# Combined Results of AgeSeg and Regional Data:\n",
    "\n",
    "| Data | Model Type | K Number | Precision | Recall | f1-score |\n",
    "|:---|:---|:---|:---|:---|:---|:---|:---|:---|\n",
    "| NCVS_AgeSeg | KNN | k=1 | mac: 0.30, wa: 0.32| mac: 0.29, wa: 0.30 | accuracy: 0.30, mac: 0.30, wa: 0.31 |\n",
    "| NCVS_AgeSeg | KNN | k=2 | mac: 0.34, wa: 0.33| mac: 0.26, wa: 0.30 | accuracy: 0.30, mac: 0.26, wa: 0.29 |\n",
    "| NCVS_AgeSeg | KNN | k=3 | mac: 0.40, wa: 0.38| mac: 0.31, wa: 0.32 | accuracy: 0.32, mac: 0.33, wa: 0.33 |\n",
    "| NCVS_AgeSeg | KNN | k=4 | mac: 0.40, wa: 0.37| mac: 0.33, wa: 0.33 | accuracy: 0.33, mac: 0.35, wa: 0.34 |\n",
    "| NCVS_AgeSeg | KNN | k=5 | mac: 0.38, wa: 0.36| mac: 0.29, wa: 0.31 | accuracy: 0.31, mac: 0.31, wa: 0.32 |\n",
    "| NCVS_AgeSeg | KNN | k=6 | mac: 0.35, wa: 0.35| mac: 0.26, wa: 0.30 | accuracy: 0.30, mac: 0.26, wa: 0.29 |\n",
    "| NCVS_Region | KNN | k=1 | mac: 0.26, wa: 0.28| mac: 0.21, wa: 0.22 | accuracy: 0.22, mac: 0.23, wa: 0.24 |\n",
    "| NCVS_Region | KNN | k=2 | mac: 0.33, wa: 0.32| mac: 0.29, wa: 0.28 | accuracy: 0.28, mac: 0.25, wa: 0.24 |\n",
    "| NCVS_Region | KNN | k=3 | mac: 0.24, wa: 0.27| mac: 0.25, wa: 0.29 | accuracy: 0.29, mac: 0.25, wa: 0.28 |\n",
    "| NCVS_Region | KNN | k=4 | mac: 0.23, wa: 0.24| mac: 0.24, wa: 0.24 | accuracy: 0.24, mac: 0.23, wa: 0.23 |\n",
    "| NCVS_Region | KNN | k=5 | mac: 0.28, wa: 0.27| mac: 0.35, wa: 0.33 | accuracy: 0.33, mac: 0.31, wa: 0.30 |\n",
    "| NCVS_Region | KNN | k=6 | mac: 0.28, wa: 0.29| mac: 0.28, wa: 0.29 | accuracy: 0.29, mac: 0.27, wa: 0.27 |\n",
    "\n",
    "When examining the performance of the NCVS_Region data, this data performed differently due to the fewer number of classes within the attribute Region. The k metric that is the most appropriate for the model is k=3 in terms of accuracy with a 29% ability to predict which region a specific type of crime is common in a region, with a weighted average of 28%. However, when examining which k metric lent itself to the most precise of the models it was one where k = 2. The model for Regional Data did perform when when examining the data with k = 5, with the highest case of accuracy at 33% and a weighted average of about 30%. In terms of precision this number of clusters did not perform as well as k=2. In terms of recall k5 performed exceptionally, however this is also an indicator of over fitting.\n"
   ]
  },
  {
   "cell_type": "markdown",
   "metadata": {},
   "source": [
    "## Creating a Scatter Plot to Examine Clusters"
   ]
  },
  {
   "cell_type": "markdown",
   "metadata": {},
   "source": [
    "## K-Means Model:\n",
    "There are a number of clustering models used for data anlysis, one of these models is the kmeans model. The objective of the model is to assign data points to clusters, based on proximity to a centroid. By doing so it explores the association between data points based on distance calculations between groups. The model opperates under the assumption that the cluster is spherical in nature, equally size and has similar dencities. Analysizing crime statistics as well as conceptualizing the actual precence of crime in US society, clustering is often used. The reason is that crime classifications are based on a group of characteristics that are requried for a crime to be considered one class or another. As this data is based on catagorical structure, as opposed to an interval clustering is possible. It is important to note that while in the case of crime, is that while Offenses do carry an ordinal weight within socity, this weight is difficult to build into a model without adding an extra layer or catagory. \n",
    "\n",
    "K-Means has limitations, as it performs poorly when clusters are irregular in size, shape and decnity. As the alogrythem itself is based on distance calculations from a centroid, it can be sensitive to the initial placement of a cluster, and even interpret outliers with greater impact than necessary. This is why the analysis begins with K-Means but has an added layer with DBSCAN. \n",
    "\n",
    "# Age Segmentation:"
   ]
  },
  {
   "cell_type": "code",
   "execution_count": 149,
   "metadata": {},
   "outputs": [
    {
     "name": "stdout",
     "output_type": "stream",
     "text": [
      "[[-1.67524673 -1.23390539 -1.49281923 -0.41536431]\n",
      " [-1.55971247 -1.23390539 -1.49281923 -0.40168172]\n",
      " [-1.44417822 -1.23390539 -1.49281923 -0.46738132]\n",
      " ...\n",
      " [ 1.44417822  1.80340019  0.97966262 -0.30343894]\n",
      " [ 1.55971247  1.80340019  0.97966262 -0.05553228]\n",
      " [ 1.67524673  1.80340019  0.97966262  0.36021616]]\n"
     ]
    }
   ],
   "source": [
    "\n",
    "# Creating a different scaler to standardize data:\n",
    "from sklearn import preprocessing\n",
    "NCVS_AgeSegSC2 = preprocessing.scale(NCVS_AgeSeg)\n",
    "print(NCVS_AgeSegSC2)\n",
    "NCVS_AgeSegSC2 = pd.DataFrame(NCVS_AgeSegSC2)"
   ]
  },
  {
   "cell_type": "code",
   "execution_count": 150,
   "metadata": {},
   "outputs": [
    {
     "name": "stderr",
     "output_type": "stream",
     "text": [
      "c:\\Users\\Tower\\anaconda3\\lib\\site-packages\\sklearn\\cluster\\_kmeans.py:870: FutureWarning: The default value of `n_init` will change from 10 to 'auto' in 1.4. Set the value of `n_init` explicitly to suppress the warning\n",
      "  warnings.warn(\n",
      "c:\\Users\\Tower\\anaconda3\\lib\\site-packages\\sklearn\\cluster\\_kmeans.py:870: FutureWarning: The default value of `n_init` will change from 10 to 'auto' in 1.4. Set the value of `n_init` explicitly to suppress the warning\n",
      "  warnings.warn(\n",
      "c:\\Users\\Tower\\anaconda3\\lib\\site-packages\\sklearn\\cluster\\_kmeans.py:870: FutureWarning: The default value of `n_init` will change from 10 to 'auto' in 1.4. Set the value of `n_init` explicitly to suppress the warning\n",
      "  warnings.warn(\n",
      "c:\\Users\\Tower\\anaconda3\\lib\\site-packages\\sklearn\\cluster\\_kmeans.py:870: FutureWarning: The default value of `n_init` will change from 10 to 'auto' in 1.4. Set the value of `n_init` explicitly to suppress the warning\n",
      "  warnings.warn(\n",
      "c:\\Users\\Tower\\anaconda3\\lib\\site-packages\\sklearn\\cluster\\_kmeans.py:870: FutureWarning: The default value of `n_init` will change from 10 to 'auto' in 1.4. Set the value of `n_init` explicitly to suppress the warning\n",
      "  warnings.warn(\n",
      "c:\\Users\\Tower\\anaconda3\\lib\\site-packages\\sklearn\\cluster\\_kmeans.py:870: FutureWarning: The default value of `n_init` will change from 10 to 'auto' in 1.4. Set the value of `n_init` explicitly to suppress the warning\n",
      "  warnings.warn(\n",
      "c:\\Users\\Tower\\anaconda3\\lib\\site-packages\\sklearn\\cluster\\_kmeans.py:870: FutureWarning: The default value of `n_init` will change from 10 to 'auto' in 1.4. Set the value of `n_init` explicitly to suppress the warning\n",
      "  warnings.warn(\n",
      "c:\\Users\\Tower\\anaconda3\\lib\\site-packages\\sklearn\\cluster\\_kmeans.py:870: FutureWarning: The default value of `n_init` will change from 10 to 'auto' in 1.4. Set the value of `n_init` explicitly to suppress the warning\n",
      "  warnings.warn(\n",
      "c:\\Users\\Tower\\anaconda3\\lib\\site-packages\\sklearn\\cluster\\_kmeans.py:870: FutureWarning: The default value of `n_init` will change from 10 to 'auto' in 1.4. Set the value of `n_init` explicitly to suppress the warning\n",
      "  warnings.warn(\n",
      "c:\\Users\\Tower\\anaconda3\\lib\\site-packages\\sklearn\\cluster\\_kmeans.py:870: FutureWarning: The default value of `n_init` will change from 10 to 'auto' in 1.4. Set the value of `n_init` explicitly to suppress the warning\n",
      "  warnings.warn(\n"
     ]
    },
    {
     "data": {
      "image/png": "[encoded data removed]",
      "text/plain": [
       "<Figure size 2000x1000 with 1 Axes>"
      ]
     },
     "metadata": {},
     "output_type": "display_data"
    }
   ],
   "source": [
    "# Estimating the number of clusters using KMeans:\n",
    "from sklearn.cluster import KMeans\n",
    "import matplotlib.pyplot as plt\n",
    "%matplotlib inline\n",
    "\n",
    "wcss = []\n",
    "for i in range (1, 11):\n",
    "    kmeans = KMeans(n_clusters = i, init = 'k-means++', random_state = 42)\n",
    "    kmeans.fit(NCVS_AgeSegSC2)\n",
    "    wcss.append(kmeans.inertia_) # establishing criteria for clustering\n",
    "\n",
    "plt.plot(range(1, 11), wcss, 'bx-')\n",
    "plt.title('NCVS AgeSeg Elbow Method')\n",
    "plt.xlabel('Number of Clusters')\n",
    "plt.ylabel('WCSS')\n",
    "plt.show()"
   ]
  },
  {
   "cell_type": "markdown",
   "metadata": {},
   "source": [
    "Based on the Silhouette provided, the number of clusters appropriate to use with this data is 4. "
   ]
  },
  {
   "cell_type": "code",
   "execution_count": 152,
   "metadata": {},
   "outputs": [
    {
     "name": "stderr",
     "output_type": "stream",
     "text": [
      "c:\\Users\\Tower\\anaconda3\\lib\\site-packages\\sklearn\\cluster\\_kmeans.py:870: FutureWarning: The default value of `n_init` will change from 10 to 'auto' in 1.4. Set the value of `n_init` explicitly to suppress the warning\n",
      "  warnings.warn(\n"
     ]
    },
    {
     "data": {
      "text/plain": [
       "array([1, 1, 1, 1, 1, 1, 1, 1, 1, 1, 1, 1, 1, 1, 1, 1, 0, 0, 0, 0, 0, 0,\n",
       "       0, 0, 0, 0, 0, 0, 0, 0, 1, 1, 1, 1, 1, 1, 1, 1, 1, 1, 1, 1, 1, 1,\n",
       "       1, 1, 0, 0, 0, 0, 0, 0, 0, 0, 0, 0, 0, 0, 0, 0, 4, 4, 4, 4, 4, 4,\n",
       "       4, 4, 4, 4, 4, 4, 4, 4, 4, 4, 4, 4, 4, 4, 4, 4, 4, 4, 4, 4, 4, 4,\n",
       "       4, 4, 2, 2, 2, 2, 2, 2, 2, 4, 4, 4, 4, 4, 4, 4, 4, 4, 4, 4, 4, 4,\n",
       "       4, 4, 4, 4, 4, 4, 4, 4, 4, 4, 1, 1, 1, 1, 1, 1, 1, 1, 1, 1, 1, 1,\n",
       "       1, 1, 1, 1, 0, 0, 0, 0, 0, 0, 0, 0, 0, 0, 0, 0, 0, 0, 1, 1, 1, 1,\n",
       "       1, 1, 1, 1, 1, 1, 1, 1, 1, 1, 1, 1, 0, 0, 0, 0, 0, 0, 0, 0, 0, 0,\n",
       "       0, 0, 0, 0, 4, 4, 4, 4, 4, 4, 4, 4, 4, 4, 4, 4, 4, 4, 4, 4, 4, 4,\n",
       "       4, 4, 4, 4, 4, 4, 4, 4, 4, 4, 4, 4, 2, 2, 2, 2, 2, 4, 2, 4, 4, 4,\n",
       "       4, 4, 4, 4, 4, 4, 4, 4, 4, 4, 4, 4, 4, 4, 4, 4, 4, 4, 4, 4, 1, 1,\n",
       "       1, 1, 1, 1, 1, 1, 1, 1, 1, 1, 1, 1, 1, 0, 0, 0, 0, 0, 0, 0, 0, 0,\n",
       "       0, 0, 0, 0, 0, 0, 1, 1, 1, 1, 1, 1, 1, 1, 1, 1, 1, 1, 1, 1, 1, 0,\n",
       "       0, 0, 0, 0, 0, 0, 0, 0, 0, 0, 0, 0, 0, 0, 4, 4, 4, 4, 4, 4, 4, 4,\n",
       "       4, 4, 4, 4, 4, 4, 4, 4, 4, 4, 4, 4, 4, 4, 4, 4, 4, 4, 4, 4, 4, 4,\n",
       "       2, 2, 2, 2, 2, 2, 2, 4, 4, 4, 4, 4, 4, 4, 4, 4, 4, 4, 4, 4, 4, 4,\n",
       "       4, 4, 4, 4, 4, 4, 4, 4, 1, 1, 1, 1, 1, 1, 1, 1, 1, 1, 1, 1, 1, 1,\n",
       "       1, 0, 0, 0, 0, 0, 0, 0, 0, 0, 0, 0, 0, 0, 0, 0, 1, 1, 1, 1, 1, 1,\n",
       "       1, 1, 1, 1, 1, 1, 1, 1, 1, 0, 0, 0, 0, 0, 0, 0, 0, 0, 0, 0, 0, 0,\n",
       "       0, 0, 4, 4, 4, 4, 4, 4, 4, 4, 4, 4, 4, 4, 4, 4, 4, 4, 4, 4, 4, 4,\n",
       "       4, 4, 4, 4, 4, 4, 4, 4, 4, 4, 2, 2, 2, 2, 2, 2, 2, 2, 2, 4, 2, 2,\n",
       "       4, 4, 4, 4, 4, 4, 4, 4, 4, 4, 4, 4, 4, 4, 4, 4, 4, 4, 1, 1, 1, 1,\n",
       "       1, 1, 1, 1, 1, 1, 1, 1, 1, 1, 1, 0, 0, 0, 0, 0, 0, 0, 0, 0, 0, 0,\n",
       "       0, 0, 0, 0, 1, 1, 1, 1, 1, 1, 1, 1, 1, 1, 1, 1, 1, 1, 1, 0, 0, 0,\n",
       "       0, 0, 0, 0, 0, 0, 0, 0, 0, 0, 0, 0, 2, 2, 2, 2, 2, 4, 4, 4, 4, 4,\n",
       "       4, 4, 4, 4, 4, 4, 4, 4, 4, 4, 4, 4, 4, 4, 4, 4, 4, 4, 4, 4, 2, 2,\n",
       "       2, 2, 2, 2, 2, 2, 2, 2, 2, 2, 2, 2, 2, 2, 2, 2, 4, 2, 2, 2, 4, 2,\n",
       "       2, 2, 4, 4, 4, 2, 1, 1, 1, 1, 1, 1, 1, 1, 1, 1, 1, 1, 1, 1, 1, 0,\n",
       "       0, 0, 0, 0, 0, 0, 0, 0, 0, 0, 0, 0, 0, 0, 1, 1, 1, 1, 1, 1, 1, 1,\n",
       "       1, 1, 1, 1, 1, 1, 1, 0, 0, 0, 0, 0, 0, 0, 0, 0, 0, 0, 0, 0, 0, 0,\n",
       "       2, 2, 4, 4, 2, 4, 4, 4, 4, 4, 4, 4, 4, 4, 4, 4, 4, 4, 4, 4, 4, 4,\n",
       "       4, 4, 4, 4, 4, 4, 4, 4, 2, 2, 2, 2, 2, 2, 2, 2, 2, 2, 2, 2, 2, 2,\n",
       "       2, 2, 2, 2, 2, 2, 2, 2, 2, 2, 2, 2, 2, 2, 2, 2, 1, 1, 1, 1, 1, 1,\n",
       "       1, 1, 1, 1, 1, 1, 1, 1, 0, 0, 0, 0, 0, 0, 0, 0, 0, 0, 0, 0, 0, 0,\n",
       "       0, 0, 3, 3, 3, 3, 3, 3, 3, 3, 3, 3, 3, 3, 3, 3, 3, 3, 3, 3, 3, 3,\n",
       "       3, 3, 3, 3, 3, 0, 0, 0, 0, 0, 3, 3, 3, 3, 3, 3, 3, 3, 3, 3, 3, 3,\n",
       "       3, 3, 3, 3, 3, 3, 3, 3, 3, 3, 3, 3, 3, 3, 3, 3, 3, 3, 3, 3, 3, 3,\n",
       "       3, 3, 3, 2, 3, 3, 3, 3, 3, 3, 3, 3, 3, 3, 3, 2, 2, 2, 3, 2, 2, 2,\n",
       "       2, 2, 2, 3, 3, 3, 3, 3, 3, 3, 3, 3, 3, 3, 3, 3, 3, 3, 3, 3, 3, 3,\n",
       "       3, 3, 3, 3, 3, 3, 0, 0, 0, 0, 0, 0, 3, 3, 3, 3, 3, 3, 3, 3, 3, 3,\n",
       "       3, 3, 3, 3, 3, 3, 3, 3, 3, 3, 3, 3, 3, 3, 3, 3, 3, 3, 3, 3, 3, 3,\n",
       "       3, 3, 3, 3, 3, 3, 3, 3, 3, 3, 3, 3, 3, 3, 3, 3, 3, 3, 3, 3, 3, 3,\n",
       "       3, 3, 3, 3, 3, 3, 3, 3, 3, 3, 3, 3, 3, 3, 3, 3, 3, 3, 3, 3, 3, 3,\n",
       "       3, 3, 3, 3, 3, 3, 3, 3, 3, 3, 3, 3, 3, 3])"
      ]
     },
     "execution_count": 152,
     "metadata": {},
     "output_type": "execute_result"
    }
   ],
   "source": [
    "# Creating the model to analysize the data:\n",
    "kmeans=KMeans(n_clusters= 5, init='k-means++', random_state=42)\n",
    "Age_kMeans = kmeans.fit_predict(NCVS_AgeSegSC2)\n",
    "Age_kMeans"
   ]
  },
  {
   "cell_type": "code",
   "execution_count": 153,
   "metadata": {},
   "outputs": [
    {
     "data": {
      "text/html": [
       "<div>\n",
       "<style scoped>\n",
       "    .dataframe tbody tr th:only-of-type {\n",
       "        vertical-align: middle;\n",
       "    }\n",
       "\n",
       "    .dataframe tbody tr th {\n",
       "        vertical-align: top;\n",
       "    }\n",
       "\n",
       "    .dataframe thead th {\n",
       "        text-align: right;\n",
       "    }\n",
       "</style>\n",
       "<table border=\"1\" class=\"dataframe\">\n",
       "  <thead>\n",
       "    <tr style=\"text-align: right;\">\n",
       "      <th></th>\n",
       "      <th>0</th>\n",
       "      <th>1</th>\n",
       "      <th>2</th>\n",
       "      <th>3</th>\n",
       "    </tr>\n",
       "    <tr>\n",
       "      <th>cluster</th>\n",
       "      <th></th>\n",
       "      <th></th>\n",
       "      <th></th>\n",
       "      <th></th>\n",
       "    </tr>\n",
       "  </thead>\n",
       "  <tbody>\n",
       "    <tr>\n",
       "      <th>0</th>\n",
       "      <td>0.9</td>\n",
       "      <td>-0.2</td>\n",
       "      <td>-1.0</td>\n",
       "      <td>-0.5</td>\n",
       "    </tr>\n",
       "    <tr>\n",
       "      <th>1</th>\n",
       "      <td>-0.9</td>\n",
       "      <td>-0.4</td>\n",
       "      <td>-1.0</td>\n",
       "      <td>-0.4</td>\n",
       "    </tr>\n",
       "    <tr>\n",
       "      <th>2</th>\n",
       "      <td>-0.5</td>\n",
       "      <td>0.0</td>\n",
       "      <td>1.0</td>\n",
       "      <td>2.3</td>\n",
       "    </tr>\n",
       "    <tr>\n",
       "      <th>3</th>\n",
       "      <td>-0.1</td>\n",
       "      <td>1.5</td>\n",
       "      <td>0.2</td>\n",
       "      <td>-0.4</td>\n",
       "    </tr>\n",
       "    <tr>\n",
       "      <th>4</th>\n",
       "      <td>0.2</td>\n",
       "      <td>-0.6</td>\n",
       "      <td>0.9</td>\n",
       "      <td>-0.0</td>\n",
       "    </tr>\n",
       "  </tbody>\n",
       "</table>\n",
       "</div>"
      ],
      "text/plain": [
       "           0    1    2    3\n",
       "cluster                    \n",
       "0        0.9 -0.2 -1.0 -0.5\n",
       "1       -0.9 -0.4 -1.0 -0.4\n",
       "2       -0.5  0.0  1.0  2.3\n",
       "3       -0.1  1.5  0.2 -0.4\n",
       "4        0.2 -0.6  0.9 -0.0"
      ]
     },
     "execution_count": 153,
     "metadata": {},
     "output_type": "execute_result"
    }
   ],
   "source": [
    "# Creating a Cluster Column for the data:\n",
    "Age_kMeans1 = Age_kMeans+1\n",
    "cluster = list(Age_kMeans)\n",
    "NCVS_AgeSegSC2['cluster'] = cluster\n",
    "\n",
    "# Mean of clsuters 1 to 4\n",
    "Age_kMeans_cluster = pd.DataFrame(round(NCVS_AgeSegSC2.groupby('cluster').mean(),1))\n",
    "Age_kMeans_cluster"
   ]
  },
  {
   "cell_type": "code",
   "execution_count": 154,
   "metadata": {},
   "outputs": [
    {
     "ename": "InvalidIndexError",
     "evalue": "(slice(None, None, None), 0)",
     "output_type": "error",
     "traceback": [
      "\u001b[1;31m---------------------------------------------------------------------------\u001b[0m",
      "\u001b[1;31mTypeError\u001b[0m                                 Traceback (most recent call last)",
      "\u001b[1;32mc:\\Users\\Tower\\anaconda3\\lib\\site-packages\\pandas\\core\\indexes\\base.py\u001b[0m in \u001b[0;36mget_loc\u001b[1;34m(self, key, method, tolerance)\u001b[0m\n\u001b[0;32m   3801\u001b[0m             \u001b[1;32mtry\u001b[0m\u001b[1;33m:\u001b[0m\u001b[1;33m\u001b[0m\u001b[1;33m\u001b[0m\u001b[0m\n\u001b[1;32m-> 3802\u001b[1;33m                 \u001b[1;32mreturn\u001b[0m \u001b[0mself\u001b[0m\u001b[1;33m.\u001b[0m\u001b[0m_engine\u001b[0m\u001b[1;33m.\u001b[0m\u001b[0mget_loc\u001b[0m\u001b[1;33m(\u001b[0m\u001b[0mcasted_key\u001b[0m\u001b[1;33m)\u001b[0m\u001b[1;33m\u001b[0m\u001b[1;33m\u001b[0m\u001b[0m\n\u001b[0m\u001b[0;32m   3803\u001b[0m             \u001b[1;32mexcept\u001b[0m \u001b[0mKeyError\u001b[0m \u001b[1;32mas\u001b[0m \u001b[0merr\u001b[0m\u001b[1;33m:\u001b[0m\u001b[1;33m\u001b[0m\u001b[1;33m\u001b[0m\u001b[0m\n",
      "\u001b[1;32mc:\\Users\\Tower\\anaconda3\\lib\\site-packages\\pandas\\_libs\\index.pyx\u001b[0m in \u001b[0;36mpandas._libs.index.IndexEngine.get_loc\u001b[1;34m()\u001b[0m\n",
      "\u001b[1;32mc:\\Users\\Tower\\anaconda3\\lib\\site-packages\\pandas\\_libs\\index.pyx\u001b[0m in \u001b[0;36mpandas._libs.index.IndexEngine.get_loc\u001b[1;34m()\u001b[0m\n",
      "\u001b[1;31mTypeError\u001b[0m: '(slice(None, None, None), 0)' is an invalid key",
      "\nDuring handling of the above exception, another exception occurred:\n",
      "\u001b[1;31mInvalidIndexError\u001b[0m                         Traceback (most recent call last)",
      "\u001b[1;32m~\\AppData\\Local\\Temp\\ipykernel_12888\\2050329036.py\u001b[0m in \u001b[0;36m<module>\u001b[1;34m\u001b[0m\n\u001b[0;32m      1\u001b[0m \u001b[1;32mfrom\u001b[0m \u001b[0msklearn\u001b[0m\u001b[1;33m.\u001b[0m\u001b[0mcluster\u001b[0m \u001b[1;32mimport\u001b[0m \u001b[0mKMeans\u001b[0m\u001b[1;33m\u001b[0m\u001b[1;33m\u001b[0m\u001b[0m\n\u001b[0;32m      2\u001b[0m \u001b[0mmod3\u001b[0m \u001b[1;33m=\u001b[0m \u001b[0mKMeans\u001b[0m\u001b[1;33m(\u001b[0m\u001b[0mn_clusters\u001b[0m\u001b[1;33m=\u001b[0m\u001b[1;36m4\u001b[0m\u001b[1;33m,\u001b[0m \u001b[0minit\u001b[0m\u001b[1;33m=\u001b[0m\u001b[1;34m'k-means++'\u001b[0m\u001b[1;33m,\u001b[0m \u001b[0mmax_iter\u001b[0m\u001b[1;33m=\u001b[0m\u001b[1;36m300\u001b[0m\u001b[1;33m,\u001b[0m \u001b[0mn_init\u001b[0m\u001b[1;33m=\u001b[0m\u001b[1;36m10\u001b[0m\u001b[1;33m,\u001b[0m \u001b[0mrandom_state\u001b[0m\u001b[1;33m=\u001b[0m\u001b[1;36m0\u001b[0m\u001b[1;33m)\u001b[0m\u001b[1;33m\u001b[0m\u001b[1;33m\u001b[0m\u001b[0m\n\u001b[1;32m----> 3\u001b[1;33m \u001b[0mplt\u001b[0m\u001b[1;33m.\u001b[0m\u001b[0mscatter\u001b[0m\u001b[1;33m(\u001b[0m\u001b[0mX\u001b[0m\u001b[1;33m[\u001b[0m\u001b[1;33m:\u001b[0m\u001b[1;33m,\u001b[0m\u001b[1;36m0\u001b[0m\u001b[1;33m]\u001b[0m\u001b[1;33m,\u001b[0m \u001b[0mX\u001b[0m\u001b[1;33m[\u001b[0m\u001b[1;33m:\u001b[0m\u001b[1;33m,\u001b[0m\u001b[1;36m1\u001b[0m\u001b[1;33m]\u001b[0m\u001b[1;33m)\u001b[0m\u001b[1;33m\u001b[0m\u001b[1;33m\u001b[0m\u001b[0m\n\u001b[0m\u001b[0;32m      4\u001b[0m \u001b[0mplt\u001b[0m\u001b[1;33m.\u001b[0m\u001b[0mscatter\u001b[0m\u001b[1;33m(\u001b[0m\u001b[0mkmeans\u001b[0m\u001b[1;33m.\u001b[0m\u001b[0mcluster_centers_\u001b[0m\u001b[1;33m[\u001b[0m\u001b[1;33m:\u001b[0m\u001b[1;33m,\u001b[0m \u001b[1;36m0\u001b[0m\u001b[1;33m]\u001b[0m\u001b[1;33m,\u001b[0m \u001b[0mkmeans\u001b[0m\u001b[1;33m.\u001b[0m\u001b[0mcluster_centers_\u001b[0m\u001b[1;33m[\u001b[0m\u001b[1;33m:\u001b[0m\u001b[1;33m,\u001b[0m \u001b[1;36m1\u001b[0m\u001b[1;33m]\u001b[0m\u001b[1;33m,\u001b[0m \u001b[0ms\u001b[0m\u001b[1;33m=\u001b[0m\u001b[1;36m300\u001b[0m\u001b[1;33m,\u001b[0m \u001b[0mc\u001b[0m\u001b[1;33m=\u001b[0m\u001b[1;34m'red'\u001b[0m\u001b[1;33m)\u001b[0m\u001b[1;33m\u001b[0m\u001b[1;33m\u001b[0m\u001b[0m\n\u001b[0;32m      5\u001b[0m \u001b[0mplt\u001b[0m\u001b[1;33m.\u001b[0m\u001b[0mshow\u001b[0m\u001b[1;33m(\u001b[0m\u001b[1;33m)\u001b[0m\u001b[1;33m\u001b[0m\u001b[1;33m\u001b[0m\u001b[0m\n",
      "\u001b[1;32mc:\\Users\\Tower\\anaconda3\\lib\\site-packages\\pandas\\core\\frame.py\u001b[0m in \u001b[0;36m__getitem__\u001b[1;34m(self, key)\u001b[0m\n\u001b[0;32m   3805\u001b[0m             \u001b[1;32mif\u001b[0m \u001b[0mself\u001b[0m\u001b[1;33m.\u001b[0m\u001b[0mcolumns\u001b[0m\u001b[1;33m.\u001b[0m\u001b[0mnlevels\u001b[0m \u001b[1;33m>\u001b[0m \u001b[1;36m1\u001b[0m\u001b[1;33m:\u001b[0m\u001b[1;33m\u001b[0m\u001b[1;33m\u001b[0m\u001b[0m\n\u001b[0;32m   3806\u001b[0m                 \u001b[1;32mreturn\u001b[0m \u001b[0mself\u001b[0m\u001b[1;33m.\u001b[0m\u001b[0m_getitem_multilevel\u001b[0m\u001b[1;33m(\u001b[0m\u001b[0mkey\u001b[0m\u001b[1;33m)\u001b[0m\u001b[1;33m\u001b[0m\u001b[1;33m\u001b[0m\u001b[0m\n\u001b[1;32m-> 3807\u001b[1;33m             \u001b[0mindexer\u001b[0m \u001b[1;33m=\u001b[0m \u001b[0mself\u001b[0m\u001b[1;33m.\u001b[0m\u001b[0mcolumns\u001b[0m\u001b[1;33m.\u001b[0m\u001b[0mget_loc\u001b[0m\u001b[1;33m(\u001b[0m\u001b[0mkey\u001b[0m\u001b[1;33m)\u001b[0m\u001b[1;33m\u001b[0m\u001b[1;33m\u001b[0m\u001b[0m\n\u001b[0m\u001b[0;32m   3808\u001b[0m             \u001b[1;32mif\u001b[0m \u001b[0mis_integer\u001b[0m\u001b[1;33m(\u001b[0m\u001b[0mindexer\u001b[0m\u001b[1;33m)\u001b[0m\u001b[1;33m:\u001b[0m\u001b[1;33m\u001b[0m\u001b[1;33m\u001b[0m\u001b[0m\n\u001b[0;32m   3809\u001b[0m                 \u001b[0mindexer\u001b[0m \u001b[1;33m=\u001b[0m \u001b[1;33m[\u001b[0m\u001b[0mindexer\u001b[0m\u001b[1;33m]\u001b[0m\u001b[1;33m\u001b[0m\u001b[1;33m\u001b[0m\u001b[0m\n",
      "\u001b[1;32mc:\\Users\\Tower\\anaconda3\\lib\\site-packages\\pandas\\core\\indexes\\base.py\u001b[0m in \u001b[0;36mget_loc\u001b[1;34m(self, key, method, tolerance)\u001b[0m\n\u001b[0;32m   3807\u001b[0m                 \u001b[1;31m#  InvalidIndexError. Otherwise we fall through and re-raise\u001b[0m\u001b[1;33m\u001b[0m\u001b[1;33m\u001b[0m\u001b[0m\n\u001b[0;32m   3808\u001b[0m                 \u001b[1;31m#  the TypeError.\u001b[0m\u001b[1;33m\u001b[0m\u001b[1;33m\u001b[0m\u001b[0m\n\u001b[1;32m-> 3809\u001b[1;33m                 \u001b[0mself\u001b[0m\u001b[1;33m.\u001b[0m\u001b[0m_check_indexing_error\u001b[0m\u001b[1;33m(\u001b[0m\u001b[0mkey\u001b[0m\u001b[1;33m)\u001b[0m\u001b[1;33m\u001b[0m\u001b[1;33m\u001b[0m\u001b[0m\n\u001b[0m\u001b[0;32m   3810\u001b[0m                 \u001b[1;32mraise\u001b[0m\u001b[1;33m\u001b[0m\u001b[1;33m\u001b[0m\u001b[0m\n\u001b[0;32m   3811\u001b[0m \u001b[1;33m\u001b[0m\u001b[0m\n",
      "\u001b[1;32mc:\\Users\\Tower\\anaconda3\\lib\\site-packages\\pandas\\core\\indexes\\base.py\u001b[0m in \u001b[0;36m_check_indexing_error\u001b[1;34m(self, key)\u001b[0m\n\u001b[0;32m   5923\u001b[0m             \u001b[1;31m# if key is not a scalar, directly raise an error (the code below\u001b[0m\u001b[1;33m\u001b[0m\u001b[1;33m\u001b[0m\u001b[0m\n\u001b[0;32m   5924\u001b[0m             \u001b[1;31m# would convert to numpy arrays and raise later any way) - GH29926\u001b[0m\u001b[1;33m\u001b[0m\u001b[1;33m\u001b[0m\u001b[0m\n\u001b[1;32m-> 5925\u001b[1;33m             \u001b[1;32mraise\u001b[0m \u001b[0mInvalidIndexError\u001b[0m\u001b[1;33m(\u001b[0m\u001b[0mkey\u001b[0m\u001b[1;33m)\u001b[0m\u001b[1;33m\u001b[0m\u001b[1;33m\u001b[0m\u001b[0m\n\u001b[0m\u001b[0;32m   5926\u001b[0m \u001b[1;33m\u001b[0m\u001b[0m\n\u001b[0;32m   5927\u001b[0m     \u001b[1;33m@\u001b[0m\u001b[0mcache_readonly\u001b[0m\u001b[1;33m\u001b[0m\u001b[1;33m\u001b[0m\u001b[0m\n",
      "\u001b[1;31mInvalidIndexError\u001b[0m: (slice(None, None, None), 0)"
     ]
    }
   ],
   "source": [
    "import matplotlib.pyplot as plt\n",
    " \n",
    "#filter rows of original data\n",
    "filtered_label0 = df[label == 0]\n",
    " \n",
    "#plotting the results\n",
    "plt.scatter(filtered_label0[:,0] , filtered_label0[:,1])\n",
    "plt.show()"
   ]
  }
 ],
 "metadata": {
  "kernelspec": {
   "display_name": "Python 3 (ipykernel)",
   "language": "python",
   "name": "python3"
  },
  "language_info": {
   "codemirror_mode": {
    "name": "ipython",
    "version": 3
   },
   "file_extension": ".py",
   "mimetype": "text/x-python",
   "name": "python",
   "nbconvert_exporter": "python",
   "pygments_lexer": "ipython3",
   "version": "3.9.16"
  }
 },
 "nbformat": 4,
 "nbformat_minor": 5
}
