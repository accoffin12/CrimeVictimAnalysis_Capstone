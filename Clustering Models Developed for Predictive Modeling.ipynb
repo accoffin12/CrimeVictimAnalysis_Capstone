{
 "cells": [
  {
   "cell_type": "markdown",
   "id": "8e7af361",
   "metadata": {},
   "source": [
    "# Predictive Cluster Models for Crime Victim Analysis:\n",
    "## A. C. Coffin \n",
    "### 11/10/2023\n",
    "### Northwestern Missouri State University\n",
    "### MS Data Analytics Capstone\n",
    "---\n",
    "## Introduction:\n",
    "This section demonstrates the use of two clustering algorythms, K-Means and DBSCAN, on Crime Victim Data gathered from the NYPD and the NCVS Dashboard. The objective is to determine which model is the most successful at predictive clustering using both data sets, and then beginning a process of incremental learning. By taking the model trained on the NCVS data and fitting NYPD data, it is possible to exicute a process known as incremental learning. As crime data is extremily complex utilizing incremental learning will address inconcistencies that are common with crime data. \n",
    "---\n",
    "## Importing packages and Addressing Threads:"
   ]
  },
  {
   "cell_type": "code",
   "execution_count": 179,
   "metadata": {},
   "outputs": [
    {
     "name": "stdout",
     "output_type": "stream",
     "text": [
      "[{'filepath': 'C:\\\\Users\\\\Tower\\\\anaconda3\\\\Library\\\\bin\\\\mkl_rt.1.dll',\n",
      "  'internal_api': 'mkl',\n",
      "  'num_threads': 6,\n",
      "  'prefix': 'mkl_rt',\n",
      "  'threading_layer': 'intel',\n",
      "  'user_api': 'blas',\n",
      "  'version': '2021.4-Product'},\n",
      " {'filepath': 'C:\\\\Users\\\\Tower\\\\anaconda3\\\\Library\\\\bin\\\\libiomp5md.dll',\n",
      "  'internal_api': 'openmp',\n",
      "  'num_threads': 12,\n",
      "  'prefix': 'libiomp',\n",
      "  'user_api': 'openmp',\n",
      "  'version': None},\n",
      " {'filepath': 'C:\\\\Users\\\\Tower\\\\anaconda3\\\\vcomp140.dll',\n",
      "  'internal_api': 'openmp',\n",
      "  'num_threads': 1,\n",
      "  'prefix': 'vcomp',\n",
      "  'user_api': 'openmp',\n",
      "  'version': None}]\n"
     ]
    }
   ],
   "source": [
    "from threadpoolctl import threadpool_info\n",
    "from pprint import pprint\n",
    "import numpy\n",
    "pprint(threadpool_info())\n"
   ]
  },
  {
   "cell_type": "code",
   "execution_count": 180,
   "metadata": {},
   "outputs": [
    {
     "name": "stdout",
     "output_type": "stream",
     "text": [
      "[{'filepath': 'C:\\\\Users\\\\Tower\\\\anaconda3\\\\Library\\\\bin\\\\mkl_rt.1.dll',\n",
      "  'internal_api': 'mkl',\n",
      "  'num_threads': 6,\n",
      "  'prefix': 'mkl_rt',\n",
      "  'threading_layer': 'intel',\n",
      "  'user_api': 'blas',\n",
      "  'version': '2021.4-Product'},\n",
      " {'filepath': 'C:\\\\Users\\\\Tower\\\\anaconda3\\\\Library\\\\bin\\\\libiomp5md.dll',\n",
      "  'internal_api': 'openmp',\n",
      "  'num_threads': 12,\n",
      "  'prefix': 'libiomp',\n",
      "  'user_api': 'openmp',\n",
      "  'version': None},\n",
      " {'filepath': 'C:\\\\Users\\\\Tower\\\\anaconda3\\\\vcomp140.dll',\n",
      "  'internal_api': 'openmp',\n",
      "  'num_threads': 1,\n",
      "  'prefix': 'vcomp',\n",
      "  'user_api': 'openmp',\n",
      "  'version': None}]\n"
     ]
    }
   ],
   "source": [
    "import os\n",
    "os.environ[\"OMP_NUM_THREADS\"] = \"1\"\n",
    "pprint(threadpool_info())"
   ]
  },
  {
   "cell_type": "code",
   "execution_count": 203,
   "metadata": {},
   "outputs": [],
   "source": [
    "import pandas as pd\n",
    "import matplotlib.pyplot as plt\n",
    "from sklearn.datasets import make_blobs\n",
    "from sklearn.cluster import KMeans\n",
    "from sklearn.metrics import silhouette_score\n",
    "from sklearn.preprocessing import StandardScaler\n",
    "from sklearn.metrics import mean_squared_error, mean_absolute_error, r2_score\n",
    "from sklearn.pipeline import Pipeline\n",
    "from sklearn.metrics import accuracy_score\n",
    "import seaborn as sns\n",
    "import numpy as np\n",
    "import warnings\n",
    "warnings.filterwarnings(\"default\")"
   ]
  },
  {
   "cell_type": "markdown",
   "metadata": {},
   "source": [
    "# Pre-Processing:\n",
    "All of the data within these crime sets is catagorical in nature and as a result was proceed differently. Part of pre-processing was grouping crime types together, as well as removing those which didn't apply to specific models. When addressing the grouping of data within the NYPD dataset, crimes were coordinated based on the general type of crime and severity. The grouping of key codes is explained in the following table, along with thier offense description. The data pulled from the NCVS pertains to mainly Personal Crimes, such as sexual assault, robbery, aggrivated assault and simple assault. In order to make the data found within the NYPD data to be compatible with the incremental learning to occur, these crimes were once again grouped and sorted based on the types found in the NCVS data. Data pertaining to age groups has already been seperated, with an adjustment made to the NCVS data to group minors together as that data in particular breaks the age groups apart indepth. All null values found within the NYPD data for age have been removed, it was included within analysis to visualize the amount of known data in comparison to the unknown within the filtered set.\n",
    "\n",
    "## Modifications Made to both NCVS and NYPD Data:\n",
    "Please see the following charts for the modified ML sets. Each of these set was exported from the SQL server independently and labeled ML for this specific section of the project. Victims with a listed age of N/A were put into class 6 for Age_GM. This is in response to how depending on the crime victim ages are ommited for safety, espcially since the NYPD data has associated case numbers in the original set. \n",
    "\n",
    "Modifications to Age Groups within the NCVS data is as follows:\n",
    "|AGE_GM|NCVS Age Groups|New Range|\n",
    "|:---|:---|:---|\n",
    "|1 |12-14, 15-17| >18|\n",
    "|2 |18-20, 21-24| 18-25|\n",
    "|3 |25-34, 35-49| 25-49|\n",
    "|4 |50-64| 50-64|\n",
    "|5 | 65+ | 65+|\n",
    "|5 |Unknown| Unknown|\n",
    "\n",
    "Modifications to NYPD data as NCIC Codes and CT_M:\n",
    "|NCIC|KY_CD|OFNS_DESC|CT_M|CT_M Meaning\n",
    "|:---|:---|:---|:---|:---|\n",
    "|1011 |104, 115, 116, 235|Sex Crimes| 2| Violent Crime Except Simple Assault|\n",
    "|1201 |105, 107, 109-113, 231, 313, 340-343| Robbery/Fraud| 2| Violent Crime Except Simple Assault|\n",
    "|1301 |101, 103, 106, 114| Homicide/Aggrivated Assault| 2| Violent Crime Except Simple Assault|\n",
    "|1313 |344, 578, 230, 355| Simple Assault/Related Crimes| 1| Simple Assault|\n",
    "\n",
    "Data pertaining to Public or Society Crimes, such as driving under the influence, traffic violations, child abandonment, pocession of a deadly weapon or drug pocessions have been removed from this data. This was done as the NCVS data pulled only pertains to Personal Crimes. This data was utilized both through the initial run of the models and again when being fitted to the selected NCVS model. The only difference is that when the NYPD data was fitted to the NCVS model the NCIC model was used. This was to demonstrate the differences between the sets as a whole. \n",
    "\n",
    "---\n",
    "# NCVS Baseline:\n",
    "As this Analysis relies heavily on the comparison of National Data to Regional Data to explore crime in america as well as demonstrate a possible application of machine learning, creating a baseline is critical. For this section each of the models has been run three times on the pre-processed NCVS data. There are two major data sets which will be used, the first being the NCVS_RegionalML Data, and the second being the NCVS_AgeSegML. \n",
    "\n",
    "## Importing NCVS Data:\n",
    "All data for each of the sets being analysize has been brought in independently to decrease processing load.\n"
   ]
  },
  {
   "cell_type": "code",
   "execution_count": 182,
   "metadata": {},
   "outputs": [],
   "source": [
    "NCVS_AgeSeg = pd.read_csv('Data/ML_PreProcess/NCVS_AgeSegML.csv')\n",
    "NCVS_Region = pd.read_csv('Data/ML_PreProcess/NCVS_RegionSegML.csv')\n"
   ]
  },
  {
   "cell_type": "code",
   "execution_count": 183,
   "metadata": {},
   "outputs": [
    {
     "name": "stdout",
     "output_type": "stream",
     "text": [
      "<class 'pandas.core.frame.DataFrame'>\n",
      "RangeIndex: 960 entries, 0 to 959\n",
      "Data columns (total 4 columns):\n",
      " #   Column   Non-Null Count  Dtype\n",
      "---  ------   --------------  -----\n",
      " 0   rpt_dt   960 non-null    int64\n",
      " 1   age_gm   960 non-null    int64\n",
      " 2   ncic     960 non-null    int64\n",
      " 3   vic_num  960 non-null    int64\n",
      "dtypes: int64(4)\n",
      "memory usage: 30.1 KB\n"
     ]
    }
   ],
   "source": [
    "NCVS_AgeSeg.info()"
   ]
  },
  {
   "cell_type": "code",
   "execution_count": 184,
   "metadata": {},
   "outputs": [
    {
     "name": "stdout",
     "output_type": "stream",
     "text": [
      "<class 'pandas.core.frame.DataFrame'>\n",
      "RangeIndex: 432 entries, 0 to 431\n",
      "Data columns (total 4 columns):\n",
      " #   Column    Non-Null Count  Dtype\n",
      "---  ------    --------------  -----\n",
      " 0   rpt_dt    432 non-null    int64\n",
      " 1   region_m  432 non-null    int64\n",
      " 2   ncic      432 non-null    int64\n",
      " 3   vic_num   432 non-null    int64\n",
      "dtypes: int64(4)\n",
      "memory usage: 13.6 KB\n"
     ]
    }
   ],
   "source": [
    "NCVS_Region.info()"
   ]
  },
  {
   "cell_type": "code",
   "execution_count": 185,
   "metadata": {},
   "outputs": [
    {
     "data": {
      "text/html": [
       "<div>\n",
       "<style scoped>\n",
       "    .dataframe tbody tr th:only-of-type {\n",
       "        vertical-align: middle;\n",
       "    }\n",
       "\n",
       "    .dataframe tbody tr th {\n",
       "        vertical-align: top;\n",
       "    }\n",
       "\n",
       "    .dataframe thead th {\n",
       "        text-align: right;\n",
       "    }\n",
       "</style>\n",
       "<table border=\"1\" class=\"dataframe\">\n",
       "  <thead>\n",
       "    <tr style=\"text-align: right;\">\n",
       "      <th></th>\n",
       "      <th>rpt_dt</th>\n",
       "      <th>age_gm</th>\n",
       "      <th>ncic</th>\n",
       "      <th>vic_num</th>\n",
       "    </tr>\n",
       "  </thead>\n",
       "  <tbody>\n",
       "    <tr>\n",
       "      <th>0</th>\n",
       "      <td>1993</td>\n",
       "      <td>1</td>\n",
       "      <td>1101</td>\n",
       "      <td>47196</td>\n",
       "    </tr>\n",
       "    <tr>\n",
       "      <th>1</th>\n",
       "      <td>1994</td>\n",
       "      <td>1</td>\n",
       "      <td>1101</td>\n",
       "      <td>49561</td>\n",
       "    </tr>\n",
       "  </tbody>\n",
       "</table>\n",
       "</div>"
      ],
      "text/plain": [
       "   rpt_dt  age_gm  ncic  vic_num\n",
       "0    1993       1  1101    47196\n",
       "1    1994       1  1101    49561"
      ]
     },
     "execution_count": 185,
     "metadata": {},
     "output_type": "execute_result"
    }
   ],
   "source": [
    "# file over view\n",
    "NCVS_AgeSeg.head(2)"
   ]
  },
  {
   "cell_type": "code",
   "execution_count": 186,
   "metadata": {},
   "outputs": [
    {
     "name": "stdout",
     "output_type": "stream",
     "text": [
      "     rpt_dt      ncic   vic_num\n",
      "0 -1.675247 -1.492819 -0.415364\n",
      "1 -1.559712 -1.492819 -0.401682\n",
      "2 -1.444178 -1.492819 -0.467381\n",
      "3 -1.328644 -1.492819 -0.524113\n",
      "4 -1.213110 -1.492819 -0.394710\n"
     ]
    }
   ],
   "source": [
    "# Dropping rows with NA values in any columns\n",
    "NCVS_AgeSeg.dropna()\n",
    "\n",
    "# Creating a scaled df where each value has a mean of 0 and stdev of 1\n",
    "from sklearn import preprocessing\n",
    "scaler = StandardScaler()\n",
    "scaler.fit(NCVS_AgeSeg.drop('age_gm', axis=1))\n",
    "SC_NCVS_AgeSeg= scaler.transform(NCVS_AgeSeg.drop('age_gm',axis=1))\n",
    "\n",
    "#Transforming into df\n",
    "SC_NCVS_AgeSeg = pd.DataFrame(SC_NCVS_AgeSeg, columns = NCVS_AgeSeg.drop('age_gm', axis = 1).columns)\n",
    "\n",
    "#Review scaled rows of the df\n",
    "print(SC_NCVS_AgeSeg[:5])"
   ]
  },
  {
   "cell_type": "code",
   "execution_count": 187,
   "metadata": {},
   "outputs": [
    {
     "data": {
      "text/html": [
       "<div>\n",
       "<style scoped>\n",
       "    .dataframe tbody tr th:only-of-type {\n",
       "        vertical-align: middle;\n",
       "    }\n",
       "\n",
       "    .dataframe tbody tr th {\n",
       "        vertical-align: top;\n",
       "    }\n",
       "\n",
       "    .dataframe thead th {\n",
       "        text-align: right;\n",
       "    }\n",
       "</style>\n",
       "<table border=\"1\" class=\"dataframe\">\n",
       "  <thead>\n",
       "    <tr style=\"text-align: right;\">\n",
       "      <th></th>\n",
       "      <th>rpt_dt</th>\n",
       "      <th>region_m</th>\n",
       "      <th>ncic</th>\n",
       "      <th>vic_num</th>\n",
       "    </tr>\n",
       "  </thead>\n",
       "  <tbody>\n",
       "    <tr>\n",
       "      <th>0</th>\n",
       "      <td>1996</td>\n",
       "      <td>2</td>\n",
       "      <td>1101</td>\n",
       "      <td>145675</td>\n",
       "    </tr>\n",
       "    <tr>\n",
       "      <th>1</th>\n",
       "      <td>1997</td>\n",
       "      <td>2</td>\n",
       "      <td>1101</td>\n",
       "      <td>210209</td>\n",
       "    </tr>\n",
       "  </tbody>\n",
       "</table>\n",
       "</div>"
      ],
      "text/plain": [
       "   rpt_dt  region_m  ncic  vic_num\n",
       "0    1996         2  1101   145675\n",
       "1    1997         2  1101   210209"
      ]
     },
     "execution_count": 187,
     "metadata": {},
     "output_type": "execute_result"
    }
   ],
   "source": [
    "# file over view for Region\n",
    "NCVS_Region.head(2)"
   ]
  },
  {
   "cell_type": "code",
   "execution_count": 267,
   "metadata": {},
   "outputs": [
    {
     "name": "stdout",
     "output_type": "stream",
     "text": [
      "       rpt_dt      ncic   vic_num\n",
      "0   -1.669046 -1.492819 -0.290022\n",
      "1   -1.540658 -1.492819 -0.023054\n",
      "2   -1.412270 -1.492819 -0.394465\n",
      "3   -1.283881 -1.492819 -0.297837\n",
      "4   -1.155493 -1.492819 -0.627759\n",
      "..        ...       ...       ...\n",
      "427  1.155493  0.979663  0.200212\n",
      "428  1.283881  0.979663  0.339144\n",
      "429  1.412270  0.979663 -0.051218\n",
      "430  1.540658  0.979663 -0.060902\n",
      "431  1.669046  0.979663  0.688522\n",
      "\n",
      "[432 rows x 3 columns]\n"
     ]
    }
   ],
   "source": [
    "# Dropping rows with NA values in any columns\n",
    "NCVS_Region.dropna()\n",
    "\n",
    "# Creating a scaled df where each value has a mean of 0 and stdev of 1\n",
    "scaler = StandardScaler()\n",
    "scaler.fit(NCVS_Region.drop('region_m', axis=1))\n",
    "SC_NCVSRegion = scaler.transform(NCVS_Region.drop('region_m', axis=1))\n",
    "\n",
    "# Transforming into df\n",
    "SC_NCVSRegion = pd.DataFrame(SC_NCVSRegion, columns= NCVS_Region.drop('region_m', axis=1).columns)\n",
    "\n",
    "#Review scaled rows of the df\n",
    "print(SC_NCVSRegion)"
   ]
  },
  {
   "cell_type": "markdown",
   "metadata": {},
   "source": [
    "## K Nearest Neighbors:\n",
    "This is a form of supervised learning, that was applied to get a sense of how the data will cluster and respond to clustering. While supervised learning is not typically applied to crime data, in this case it is applicable as one of the objectives was to understand the relationship between age and the types of crime among female victims. \n",
    "\n"
   ]
  },
  {
   "cell_type": "code",
   "execution_count": 189,
   "metadata": {},
   "outputs": [
    {
     "name": "stderr",
     "output_type": "stream",
     "text": [
      "c:\\Users\\Tower\\anaconda3\\lib\\site-packages\\sklearn\\cluster\\_kmeans.py:870: FutureWarning: The default value of `n_init` will change from 10 to 'auto' in 1.4. Set the value of `n_init` explicitly to suppress the warning\n",
      "  warnings.warn(\n",
      "c:\\Users\\Tower\\anaconda3\\lib\\site-packages\\sklearn\\cluster\\_kmeans.py:870: FutureWarning: The default value of `n_init` will change from 10 to 'auto' in 1.4. Set the value of `n_init` explicitly to suppress the warning\n",
      "  warnings.warn(\n",
      "c:\\Users\\Tower\\anaconda3\\lib\\site-packages\\sklearn\\cluster\\_kmeans.py:870: FutureWarning: The default value of `n_init` will change from 10 to 'auto' in 1.4. Set the value of `n_init` explicitly to suppress the warning\n",
      "  warnings.warn(\n",
      "c:\\Users\\Tower\\anaconda3\\lib\\site-packages\\sklearn\\cluster\\_kmeans.py:870: FutureWarning: The default value of `n_init` will change from 10 to 'auto' in 1.4. Set the value of `n_init` explicitly to suppress the warning\n",
      "  warnings.warn(\n",
      "c:\\Users\\Tower\\anaconda3\\lib\\site-packages\\sklearn\\cluster\\_kmeans.py:870: FutureWarning: The default value of `n_init` will change from 10 to 'auto' in 1.4. Set the value of `n_init` explicitly to suppress the warning\n",
      "  warnings.warn(\n",
      "c:\\Users\\Tower\\anaconda3\\lib\\site-packages\\sklearn\\cluster\\_kmeans.py:870: FutureWarning: The default value of `n_init` will change from 10 to 'auto' in 1.4. Set the value of `n_init` explicitly to suppress the warning\n",
      "  warnings.warn(\n",
      "c:\\Users\\Tower\\anaconda3\\lib\\site-packages\\sklearn\\cluster\\_kmeans.py:870: FutureWarning: The default value of `n_init` will change from 10 to 'auto' in 1.4. Set the value of `n_init` explicitly to suppress the warning\n",
      "  warnings.warn(\n",
      "c:\\Users\\Tower\\anaconda3\\lib\\site-packages\\sklearn\\cluster\\_kmeans.py:870: FutureWarning: The default value of `n_init` will change from 10 to 'auto' in 1.4. Set the value of `n_init` explicitly to suppress the warning\n",
      "  warnings.warn(\n",
      "c:\\Users\\Tower\\anaconda3\\lib\\site-packages\\sklearn\\cluster\\_kmeans.py:870: FutureWarning: The default value of `n_init` will change from 10 to 'auto' in 1.4. Set the value of `n_init` explicitly to suppress the warning\n",
      "  warnings.warn(\n"
     ]
    },
    {
     "data": {
      "image/png": "[encoded data removed]",
      "text/plain": [
       "<Figure size 2000x1000 with 1 Axes>"
      ]
     },
     "metadata": {},
     "output_type": "display_data"
    }
   ],
   "source": [
    "from sklearn.cluster import KMeans\n",
    "import matplotlib.pyplot as plt\n",
    "%matplotlib inline\n",
    "\n",
    "wcss = []\n",
    "for i in range (1, 10):\n",
    "    kmeans = KMeans(n_clusters = i, init = 'k-means++', random_state = 42)\n",
    "    kmeans.fit(SC_NCVS_AgeSeg)\n",
    "    wcss.append(kmeans.inertia_) # establishing criteria for clustering\n",
    "\n",
    "plt.plot(range(1, 10), wcss, 'bx-')\n",
    "plt.title('NCVS AgeSeg Elbow Method')\n",
    "plt.xlabel('Number of Clusters')\n",
    "plt.ylabel('WCSS')\n",
    "plt.show()"
   ]
  },
  {
   "cell_type": "code",
   "execution_count": 190,
   "metadata": {},
   "outputs": [],
   "source": [
    "# Creating a split\n",
    "from sklearn.model_selection import train_test_split\n",
    "from sklearn.neighbors import KNeighborsClassifier\n",
    "X = SC_NCVS_AgeSeg\n",
    "y = NCVS_AgeSeg['age_gm']\n",
    "\n",
    "# Creating test split with 20% of data:\n",
    "X_training_data, X_test_data, y_training_data, y_test_data = train_test_split(X, y, test_size = 0.2)\n",
    "\n"
   ]
  },
  {
   "cell_type": "markdown",
   "metadata": {},
   "source": [
    "Based on the graph, the optimal number of clusters is 4, as this is when the slope of the line changes the most. This will be utilized later when running a K-Means Model. While it is not central to a KNN analysis it does serve as a possible guide as to the number to use for K. "
   ]
  },
  {
   "cell_type": "code",
   "execution_count": 258,
   "metadata": {},
   "outputs": [
    {
     "data": {
      "text/html": [
       "<style>#sk-container-id-45 {color: black;background-color: white;}#sk-container-id-45 pre{padding: 0;}#sk-container-id-45 div.sk-toggleable {background-color: white;}#sk-container-id-45 label.sk-toggleable__label {cursor: pointer;display: block;width: 100%;margin-bottom: 0;padding: 0.3em;box-sizing: border-box;text-align: center;}#sk-container-id-45 label.sk-toggleable__label-arrow:before {content: \"▸\";float: left;margin-right: 0.25em;color: #696969;}#sk-container-id-45 label.sk-toggleable__label-arrow:hover:before {color: black;}#sk-container-id-45 div.sk-estimator:hover label.sk-toggleable__label-arrow:before {color: black;}#sk-container-id-45 div.sk-toggleable__content {max-height: 0;max-width: 0;overflow: hidden;text-align: left;background-color: #f0f8ff;}#sk-container-id-45 div.sk-toggleable__content pre {margin: 0.2em;color: black;border-radius: 0.25em;background-color: #f0f8ff;}#sk-container-id-45 input.sk-toggleable__control:checked~div.sk-toggleable__content {max-height: 200px;max-width: 100%;overflow: auto;}#sk-container-id-45 input.sk-toggleable__control:checked~label.sk-toggleable__label-arrow:before {content: \"▾\";}#sk-container-id-45 div.sk-estimator input.sk-toggleable__control:checked~label.sk-toggleable__label {background-color: #d4ebff;}#sk-container-id-45 div.sk-label input.sk-toggleable__control:checked~label.sk-toggleable__label {background-color: #d4ebff;}#sk-container-id-45 input.sk-hidden--visually {border: 0;clip: rect(1px 1px 1px 1px);clip: rect(1px, 1px, 1px, 1px);height: 1px;margin: -1px;overflow: hidden;padding: 0;position: absolute;width: 1px;}#sk-container-id-45 div.sk-estimator {font-family: monospace;background-color: #f0f8ff;border: 1px dotted black;border-radius: 0.25em;box-sizing: border-box;margin-bottom: 0.5em;}#sk-container-id-45 div.sk-estimator:hover {background-color: #d4ebff;}#sk-container-id-45 div.sk-parallel-item::after {content: \"\";width: 100%;border-bottom: 1px solid gray;flex-grow: 1;}#sk-container-id-45 div.sk-label:hover label.sk-toggleable__label {background-color: #d4ebff;}#sk-container-id-45 div.sk-serial::before {content: \"\";position: absolute;border-left: 1px solid gray;box-sizing: border-box;top: 0;bottom: 0;left: 50%;z-index: 0;}#sk-container-id-45 div.sk-serial {display: flex;flex-direction: column;align-items: center;background-color: white;padding-right: 0.2em;padding-left: 0.2em;position: relative;}#sk-container-id-45 div.sk-item {position: relative;z-index: 1;}#sk-container-id-45 div.sk-parallel {display: flex;align-items: stretch;justify-content: center;background-color: white;position: relative;}#sk-container-id-45 div.sk-item::before, #sk-container-id-45 div.sk-parallel-item::before {content: \"\";position: absolute;border-left: 1px solid gray;box-sizing: border-box;top: 0;bottom: 0;left: 50%;z-index: -1;}#sk-container-id-45 div.sk-parallel-item {display: flex;flex-direction: column;z-index: 1;position: relative;background-color: white;}#sk-container-id-45 div.sk-parallel-item:first-child::after {align-self: flex-end;width: 50%;}#sk-container-id-45 div.sk-parallel-item:last-child::after {align-self: flex-start;width: 50%;}#sk-container-id-45 div.sk-parallel-item:only-child::after {width: 0;}#sk-container-id-45 div.sk-dashed-wrapped {border: 1px dashed gray;margin: 0 0.4em 0.5em 0.4em;box-sizing: border-box;padding-bottom: 0.4em;background-color: white;}#sk-container-id-45 div.sk-label label {font-family: monospace;font-weight: bold;display: inline-block;line-height: 1.2em;}#sk-container-id-45 div.sk-label-container {text-align: center;}#sk-container-id-45 div.sk-container {/* jupyter's `normalize.less` sets `[hidden] { display: none; }` but bootstrap.min.css set `[hidden] { display: none !important; }` so we also need the `!important` here to be able to override the default hidden behavior on the sphinx rendered scikit-learn.org. See: https://github.com/scikit-learn/scikit-learn/issues/21755 */display: inline-block !important;position: relative;}#sk-container-id-45 div.sk-text-repr-fallback {display: none;}</style><div id=\"sk-container-id-45\" class=\"sk-top-container\"><div class=\"sk-text-repr-fallback\"><pre>KNeighborsClassifier(n_neighbors=6)</pre><b>In a Jupyter environment, please rerun this cell to show the HTML representation or trust the notebook. <br />On GitHub, the HTML representation is unable to render, please try loading this page with nbviewer.org.</b></div><div class=\"sk-container\" hidden><div class=\"sk-item\"><div class=\"sk-estimator sk-toggleable\"><input class=\"sk-toggleable__control sk-hidden--visually\" id=\"sk-estimator-id-45\" type=\"checkbox\" checked><label for=\"sk-estimator-id-45\" class=\"sk-toggleable__label sk-toggleable__label-arrow\">KNeighborsClassifier</label><div class=\"sk-toggleable__content\"><pre>KNeighborsClassifier(n_neighbors=6)</pre></div></div></div></div></div>"
      ],
      "text/plain": [
       "KNeighborsClassifier(n_neighbors=6)"
      ]
     },
     "execution_count": 258,
     "metadata": {},
     "output_type": "execute_result"
    }
   ],
   "source": [
    "# AgeSeg cluster Analysis:\n",
    "# Fitting K-Means to the set\n",
    "# Training the model:\n",
    "#model = KMeans(n_clusters = 4, init = 'k-means++', random_state=123)\n",
    "model = KNeighborsClassifier(n_neighbors = 6)\n",
    "model.fit(X_training_data, y_training_data)\n",
    "\n",
    "#y_pred = model.fit_predict(y_test_data)\n",
    "#y_pred"
   ]
  },
  {
   "cell_type": "code",
   "execution_count": 259,
   "metadata": {},
   "outputs": [
    {
     "data": {
      "text/plain": [
       "array([3, 4, 1, 5, 2, 3, 1, 1, 1, 1, 1, 1, 1, 2, 2, 4, 2, 3, 1, 3, 3, 3,\n",
       "       1, 1, 3, 1, 3, 1, 1, 1, 3, 2, 2, 3, 2, 1, 3, 2, 1, 2, 1, 1, 1, 5,\n",
       "       1, 3, 2, 3, 1, 3, 3, 1, 1, 1, 3, 3, 1, 1, 2, 3, 1, 2, 1, 2, 2, 3,\n",
       "       1, 1, 1, 1, 3, 3, 5, 3, 1, 4, 3, 1, 1, 2, 1, 3, 1, 3, 1, 3, 3, 3,\n",
       "       3, 2, 2, 1, 3, 1, 1, 1, 2, 2, 5, 1, 1, 1, 3, 1, 2, 1, 1, 3, 4, 3,\n",
       "       1, 1, 3, 1, 1, 4, 3, 3, 3, 1, 3, 3, 3, 2, 3, 1, 3, 1, 1, 2, 4, 1,\n",
       "       1, 1, 3, 1, 2, 1, 5, 1, 1, 1, 2, 2, 1, 2, 2, 2, 2, 1, 3, 3, 4, 3,\n",
       "       1, 4, 2, 3, 5, 3, 1, 5, 2, 2, 2, 3, 1, 1, 1, 1, 1, 1, 1, 2, 1, 1,\n",
       "       1, 5, 2, 3, 1, 3, 1, 4, 1, 3, 2, 3, 2, 4, 5, 1, 1, 1, 1, 2, 1, 5,\n",
       "       2, 1, 3, 1, 1, 3, 1, 2, 3, 5, 2, 1, 1, 1, 1, 2, 1, 1, 2, 4, 1, 1,\n",
       "       5, 3, 4, 4, 1, 3, 3, 2, 1, 2, 2, 3, 2, 2, 2, 1, 1, 1, 3, 2, 5, 2,\n",
       "       2, 3, 1, 3, 2, 1, 3, 1, 2, 2, 1, 3, 3, 1, 2, 2, 2, 3, 2, 2, 3, 1,\n",
       "       3, 2, 2, 2, 1, 3, 1, 1, 3, 2, 2, 1, 1, 1, 5, 1, 1, 2, 3, 1, 5, 3,\n",
       "       4, 3, 3, 1, 1, 2, 2, 2, 1, 2, 2, 2, 1, 3, 4, 2, 1, 3, 1, 5, 3, 3,\n",
       "       2, 2, 1, 1, 3, 1, 3, 2, 1, 5, 2, 1, 3, 1, 3, 3, 1, 2, 3, 3, 1, 2,\n",
       "       3, 1, 2, 3, 2, 3, 3, 2, 1, 3, 1, 4, 3, 5, 1, 1, 2, 4, 1, 3, 1, 1,\n",
       "       1, 2, 3, 3, 3, 3, 1, 1, 5, 1, 2, 3, 1, 1, 2, 3, 1, 3, 1, 5, 3, 1,\n",
       "       1, 1, 1, 3, 5, 3, 4, 2, 1, 3, 1, 3, 3, 3, 1, 3, 3, 3, 2, 2, 3, 3,\n",
       "       1, 2, 2, 1, 4, 3, 1, 1, 2, 1, 2, 3, 1, 2, 4, 2, 4, 1, 3, 1, 2, 1,\n",
       "       2, 3, 1, 3, 3, 1, 5, 1, 1, 1, 2, 1, 5, 1, 3, 2, 5, 1, 2, 1, 1, 3,\n",
       "       1, 1, 2, 3, 3, 5, 2, 3, 3, 3, 2, 3, 3, 1, 1, 2, 4, 1, 3, 2, 1, 3,\n",
       "       1, 3, 3, 1, 1, 1, 3, 3, 1, 2, 1, 2, 1, 1, 2, 5, 4, 1, 1, 2, 3, 1,\n",
       "       2, 3, 2, 1, 2, 1, 2, 2, 2, 2, 4, 3, 1, 1, 3, 2, 2, 1, 2, 3, 1, 2,\n",
       "       3, 1, 2, 1, 3, 1, 1, 3, 2, 1, 4, 5, 1, 3, 3, 1, 1, 2, 3, 1, 1, 1,\n",
       "       2, 3, 1, 5, 2, 3, 3, 1, 1, 2, 2, 3, 1, 3, 3, 1, 1, 2, 2, 2, 1, 1,\n",
       "       2, 2, 3, 2, 3, 3, 2, 1, 1, 2, 1, 1, 1, 3, 1, 2, 1, 1, 2, 1, 3, 3,\n",
       "       3, 1, 3, 3, 2, 2, 3, 2, 3, 5, 3, 1, 2, 1, 3, 1, 3, 1, 2, 1, 3, 2,\n",
       "       3, 1, 3, 1, 2, 2, 5, 1, 1, 5, 1, 5, 2, 2, 3, 3, 4, 2, 2, 3, 2, 5,\n",
       "       1, 1, 1, 3, 1, 4, 1, 2, 1, 3, 1, 2, 3, 1, 2, 1, 2, 3, 1, 3, 1, 4,\n",
       "       2, 3, 2, 1, 2, 1, 1, 2, 1, 1, 2, 2, 2, 1, 1, 1, 3, 2, 1, 2, 3, 2,\n",
       "       1, 1, 2, 1, 1, 1, 3, 3, 4, 3, 1, 3, 3, 5, 1, 3, 1, 2, 1, 1, 4, 1,\n",
       "       3, 3, 1, 3, 1, 1, 3, 1, 1, 3, 3, 1, 1, 1, 3, 2, 2, 2, 2, 1, 1, 3,\n",
       "       2, 2, 1, 1, 5, 3, 3, 3, 1, 2, 3, 2, 3, 3, 2, 1, 1, 1, 1, 2, 1, 3,\n",
       "       3, 3, 3, 2, 3, 1, 3, 4, 3, 3, 3, 1, 2, 2, 3, 1, 3, 3, 2, 1, 1, 1,\n",
       "       2, 2, 1, 3, 4, 3, 3, 1, 2, 2, 2, 3, 2, 2, 1, 1, 1, 3, 2, 5],\n",
       "      dtype=int64)"
      ]
     },
     "execution_count": 259,
     "metadata": {},
     "output_type": "execute_result"
    }
   ],
   "source": [
    "y_train_pred = model.predict(X_training_data)\n",
    "y_train_pred"
   ]
  },
  {
   "cell_type": "code",
   "execution_count": 260,
   "metadata": {},
   "outputs": [
    {
     "data": {
      "text/plain": [
       "array([4, 3, 1, 2, 1, 3, 3, 2, 3, 3, 1, 1, 3, 3, 2, 2, 3, 3, 1, 3, 3, 1,\n",
       "       3, 2, 3, 1, 5, 4, 2, 1, 3, 2, 2, 1, 2, 1, 1, 2, 2, 3, 1, 3, 2, 1,\n",
       "       2, 3, 1, 1, 2, 3, 5, 4, 3, 1, 3, 1, 1, 4, 3, 1, 2, 1, 3, 3, 2, 1,\n",
       "       4, 1, 5, 3, 2, 2, 4, 1, 3, 3, 3, 2, 3, 3, 1, 1, 2, 2, 3, 3, 2, 1,\n",
       "       4, 1, 2, 2, 3, 1, 2, 1, 1, 5, 1, 1, 3, 1, 1, 4, 5, 2, 1, 1, 2, 2,\n",
       "       1, 1, 3, 1, 3, 2, 1, 1, 1, 3, 5, 3, 4, 2, 1, 2, 1, 1, 1, 1, 1, 1,\n",
       "       1, 4, 2, 4, 3, 3, 1, 1, 3, 5, 2, 1, 2, 1, 4, 2, 1, 1, 1, 1, 3, 5,\n",
       "       1, 1, 1, 1, 2, 1, 1, 3, 3, 3, 2, 3, 3, 5, 3, 1, 1, 2, 2, 4, 1, 1,\n",
       "       3, 1, 2, 1, 1, 2, 3, 2, 1, 3, 2, 5, 1, 3, 3, 1], dtype=int64)"
      ]
     },
     "execution_count": 260,
     "metadata": {},
     "output_type": "execute_result"
    }
   ],
   "source": [
    "y_test_predict = model.predict(X_test_data)\n",
    "y_test_predict"
   ]
  },
  {
   "cell_type": "code",
   "execution_count": 261,
   "metadata": {},
   "outputs": [
    {
     "name": "stdout",
     "output_type": "stream",
     "text": [
      "KNN Training MAE: 0.8346354166666666, KNN Test MAE: 1.1302083333333333\n",
      "KNN Training MSE: 0.8346354166666666, KNN Test MSE: 1.1302083333333333\n",
      "KNN Training RMSE: 0.9135838312200291, KNN Test RMSE: 0.9135838312200291\n"
     ]
    }
   ],
   "source": [
    "from sklearn.metrics import classification_report\n",
    "from sklearn.metrics import confusion_matrix\n",
    "\n",
    "\n",
    "#Mean Absolute Error:\n",
    "model_train_mae = mean_absolute_error(y_training_data, y_train_pred)\n",
    "model_test_mae = mean_absolute_error(y_test_data, y_test_predict)\n",
    "\n",
    "# Mean Squared Error:\n",
    "model_train_mse = mean_absolute_error(y_training_data, y_train_pred)\n",
    "model_test_mse = mean_absolute_error(y_test_data, y_test_predict)\n",
    "\n",
    "# RMSE\n",
    "model_train_rmse = np.sqrt(model_train_mse)\n",
    "model_test_rmse = np.sqrt(model_test_mse)\n",
    "\n",
    "print(f\"KNN Training MAE: {model_train_mae}, KNN Test MAE: {model_test_mae}\")\n",
    "print(f\"KNN Training MSE: {model_train_mse}, KNN Test MSE: {model_test_mse}\")\n",
    "print(f\"KNN Training RMSE: {model_train_rmse}, KNN Test RMSE: {model_train_rmse}\")"
   ]
  },
  {
   "cell_type": "markdown",
   "metadata": {},
   "source": [
    "## Confusion Matrix for NCVS_AgeSeg"
   ]
  },
  {
   "cell_type": "markdown",
   "metadata": {},
   "source": [
    "## Examining KNN Performance for NCVS AgeSeg:\n",
    "The performance of KNN on this model was highly dependent on the alteration of K. Initially the model was performed with k=1, and as the data was sifted through the number of k was altered. The reason for this was to determine if there was a connection between the number of clusters that performed the best with KNN, which was developed to examine data clustering based on proximity. As K increases, the model becomes more stable. However, it is important to note that it is easy for this model to over fit.\n",
    "\n",
    "| Data | Model Type | K Number | MAE | MSE | RMSE |\n",
    "|:---|:---|:---|:---|:---|:---|\n",
    "|NCVS_AgeSeg|Training KNN|k=1|0.0|0.0|0.0|\n",
    "|NCVS_AgeSeg|Test KNN|k=1|1.302|1.302|0|\n",
    "|NCVS_AgeSeg|Training KNN|k=2|0.694|0.694|0.833|\n",
    "|NCVS_AgeSeg|Test KNN|k=2|1.151|1.151|0.833|\n",
    "|NCVS_AgeSeg|Training KNN|k=3|0.755|0.755|0.869|\n",
    "|NCVS_AgeSeg|Test KNN|k=3|1.078|1.078|0.869|\n",
    "|NCVS_AgeSeg|Training KNN|k=4|0.768|0.768|0.876|\n",
    "|NCVS_AgeSeg|Test KNN|k=4|1.182|1.182|0.869|\n",
    "|NCVS_AgeSeg|Training KNN|k=5|0.784|0.784|0.885|\n",
    "|NCVS_AgeSeg|Test KNN|k=5|1.192|1.192|0.885|\n",
    "|NCVS_AgeSeg|Training KNN|k=6|0.835|0.835|0.914|\n",
    "|NCVS_AgeSeg|Test KNN|k=6|1.130|1.130|0.914|\n",
    "\n",
    "As this model is not a linear regression but a clustering, the application of R Squared is inappropreate. Instead the focus is on the use of Mean Absolute Error, Mean Squared Error and Root Mean Squared Error. Each of these measures a different aspect of the data, over all the performance does improve as the number of clusters increases on the training set. However when the data is applied with the testing set the model does show to be over fitting as the testing data is significantly higher than the training. This can be observed through the plot bellow that explores Error Rates accross the data. In terms of the k value that performed the best when n_neighbors = 6.\n",
    "\n",
    "## Error Rates:\n",
    "Error rates can indicated where a model is failing in terms of KNN. In this instance the error rates tend to be minimized with a K value of 3, which is slightly different when compared to the silhouette analysis performed earlier to establish the number of centroids requried to analysize the data for this model. "
   ]
  },
  {
   "cell_type": "code",
   "execution_count": 262,
   "metadata": {},
   "outputs": [
    {
     "data": {
      "text/plain": [
       "[<matplotlib.lines.Line2D at 0x12bebf150a0>]"
      ]
     },
     "execution_count": 262,
     "metadata": {},
     "output_type": "execute_result"
    },
    {
     "data": {
      "image/png": "[encoded data removed]",
      "text/plain": [
       "<Figure size 2000x1000 with 1 Axes>"
      ]
     },
     "metadata": {},
     "output_type": "display_data"
    }
   ],
   "source": [
    "# Error Rates\n",
    "error_rates=[]\n",
    "\n",
    "for i in range (1, 10):\n",
    "    new_mod = KNeighborsClassifier(n_neighbors = i)\n",
    "    new_mod.fit(X_training_data, y_training_data)\n",
    "    pred2 = new_mod.predict(X_test_data)\n",
    "    error_rates.append(np.mean(pred2 != y_test_data))\n",
    "plt.title(\"Error Rates for AgeSeg KNN\")\n",
    "plt.plot(error_rates)\n"
   ]
  },
  {
   "cell_type": "markdown",
   "metadata": {},
   "source": [
    "# NCVS Regional Data: \n",
    "When examining Regional Data the same pipeline was applied, the model has been modified in the cells to run the other data set that represents national data.\n"
   ]
  },
  {
   "cell_type": "code",
   "execution_count": 342,
   "metadata": {},
   "outputs": [
    {
     "data": {
      "text/html": [
       "<style>#sk-container-id-55 {color: black;background-color: white;}#sk-container-id-55 pre{padding: 0;}#sk-container-id-55 div.sk-toggleable {background-color: white;}#sk-container-id-55 label.sk-toggleable__label {cursor: pointer;display: block;width: 100%;margin-bottom: 0;padding: 0.3em;box-sizing: border-box;text-align: center;}#sk-container-id-55 label.sk-toggleable__label-arrow:before {content: \"▸\";float: left;margin-right: 0.25em;color: #696969;}#sk-container-id-55 label.sk-toggleable__label-arrow:hover:before {color: black;}#sk-container-id-55 div.sk-estimator:hover label.sk-toggleable__label-arrow:before {color: black;}#sk-container-id-55 div.sk-toggleable__content {max-height: 0;max-width: 0;overflow: hidden;text-align: left;background-color: #f0f8ff;}#sk-container-id-55 div.sk-toggleable__content pre {margin: 0.2em;color: black;border-radius: 0.25em;background-color: #f0f8ff;}#sk-container-id-55 input.sk-toggleable__control:checked~div.sk-toggleable__content {max-height: 200px;max-width: 100%;overflow: auto;}#sk-container-id-55 input.sk-toggleable__control:checked~label.sk-toggleable__label-arrow:before {content: \"▾\";}#sk-container-id-55 div.sk-estimator input.sk-toggleable__control:checked~label.sk-toggleable__label {background-color: #d4ebff;}#sk-container-id-55 div.sk-label input.sk-toggleable__control:checked~label.sk-toggleable__label {background-color: #d4ebff;}#sk-container-id-55 input.sk-hidden--visually {border: 0;clip: rect(1px 1px 1px 1px);clip: rect(1px, 1px, 1px, 1px);height: 1px;margin: -1px;overflow: hidden;padding: 0;position: absolute;width: 1px;}#sk-container-id-55 div.sk-estimator {font-family: monospace;background-color: #f0f8ff;border: 1px dotted black;border-radius: 0.25em;box-sizing: border-box;margin-bottom: 0.5em;}#sk-container-id-55 div.sk-estimator:hover {background-color: #d4ebff;}#sk-container-id-55 div.sk-parallel-item::after {content: \"\";width: 100%;border-bottom: 1px solid gray;flex-grow: 1;}#sk-container-id-55 div.sk-label:hover label.sk-toggleable__label {background-color: #d4ebff;}#sk-container-id-55 div.sk-serial::before {content: \"\";position: absolute;border-left: 1px solid gray;box-sizing: border-box;top: 0;bottom: 0;left: 50%;z-index: 0;}#sk-container-id-55 div.sk-serial {display: flex;flex-direction: column;align-items: center;background-color: white;padding-right: 0.2em;padding-left: 0.2em;position: relative;}#sk-container-id-55 div.sk-item {position: relative;z-index: 1;}#sk-container-id-55 div.sk-parallel {display: flex;align-items: stretch;justify-content: center;background-color: white;position: relative;}#sk-container-id-55 div.sk-item::before, #sk-container-id-55 div.sk-parallel-item::before {content: \"\";position: absolute;border-left: 1px solid gray;box-sizing: border-box;top: 0;bottom: 0;left: 50%;z-index: -1;}#sk-container-id-55 div.sk-parallel-item {display: flex;flex-direction: column;z-index: 1;position: relative;background-color: white;}#sk-container-id-55 div.sk-parallel-item:first-child::after {align-self: flex-end;width: 50%;}#sk-container-id-55 div.sk-parallel-item:last-child::after {align-self: flex-start;width: 50%;}#sk-container-id-55 div.sk-parallel-item:only-child::after {width: 0;}#sk-container-id-55 div.sk-dashed-wrapped {border: 1px dashed gray;margin: 0 0.4em 0.5em 0.4em;box-sizing: border-box;padding-bottom: 0.4em;background-color: white;}#sk-container-id-55 div.sk-label label {font-family: monospace;font-weight: bold;display: inline-block;line-height: 1.2em;}#sk-container-id-55 div.sk-label-container {text-align: center;}#sk-container-id-55 div.sk-container {/* jupyter's `normalize.less` sets `[hidden] { display: none; }` but bootstrap.min.css set `[hidden] { display: none !important; }` so we also need the `!important` here to be able to override the default hidden behavior on the sphinx rendered scikit-learn.org. See: https://github.com/scikit-learn/scikit-learn/issues/21755 */display: inline-block !important;position: relative;}#sk-container-id-55 div.sk-text-repr-fallback {display: none;}</style><div id=\"sk-container-id-55\" class=\"sk-top-container\"><div class=\"sk-text-repr-fallback\"><pre>KNeighborsClassifier(n_neighbors=4)</pre><b>In a Jupyter environment, please rerun this cell to show the HTML representation or trust the notebook. <br />On GitHub, the HTML representation is unable to render, please try loading this page with nbviewer.org.</b></div><div class=\"sk-container\" hidden><div class=\"sk-item\"><div class=\"sk-estimator sk-toggleable\"><input class=\"sk-toggleable__control sk-hidden--visually\" id=\"sk-estimator-id-55\" type=\"checkbox\" checked><label for=\"sk-estimator-id-55\" class=\"sk-toggleable__label sk-toggleable__label-arrow\">KNeighborsClassifier</label><div class=\"sk-toggleable__content\"><pre>KNeighborsClassifier(n_neighbors=4)</pre></div></div></div></div></div>"
      ],
      "text/plain": [
       "KNeighborsClassifier(n_neighbors=4)"
      ]
     },
     "execution_count": 342,
     "metadata": {},
     "output_type": "execute_result"
    }
   ],
   "source": [
    "# Creating a split\n",
    "# All splits are 20% test, 80% train\n",
    "from sklearn.model_selection import train_test_split\n",
    "from sklearn.neighbors import KNeighborsClassifier\n",
    "X = SC_NCVSRegion\n",
    "y = NCVS_Region['vic_num']\n",
    "\n",
    "# Creating test split with 20% of data:\n",
    "X_training_data, X_test_data, y_training_data, y_test_data = train_test_split(X, y, test_size = 0.2)\n",
    "\n",
    "# AgeSeg cluster Analysis:\n",
    "# Training the model:\n",
    "model2 = KNeighborsClassifier(n_neighbors = 4)\n",
    "model2.fit(X_training_data, y_training_data)\n",
    "\n",
    "\n"
   ]
  },
  {
   "cell_type": "code",
   "execution_count": 343,
   "metadata": {},
   "outputs": [
    {
     "data": {
      "text/plain": [
       "array([  29389,   29909,   52582,   95470,   18517,  640653,  264179,\n",
       "        724132,  364810,  217864,   42040,   65449,  102459,  102906,\n",
       "         72805,   89910,   40566,   28278,   54665,   72398,  546597,\n",
       "        143026,  186306,  238772,   71815,   61594,  564817,  533965,\n",
       "         30504,  111921,   79467,  122320,  546597,   81010,   44432,\n",
       "         52020,   75372,  138163,  640653,   63516,   28278,  101884,\n",
       "        101884,   10108,   41254,  330768,  519230,   30504,   46885,\n",
       "        724132, 1114861,  449661,  126031,   34242,  593299,   75372,\n",
       "         54665,   95596,   83771,   28430,   71270,  360019,  263901,\n",
       "         56775,  114210,   41685,   70112,   85788,   21200,   62370,\n",
       "         97487,  217864,  384099,  784350,   43012,  217951,  186306,\n",
       "        214073,   54665,   28278,  612482,   34128,   34242,  129465,\n",
       "        471434,   41254,   83515,  112434,  129465,  138163,  402390,\n",
       "        471434,   63516,  402390,   63690,   72805,   68783,   18517,\n",
       "         83855,  607642,   19699,  991736,   75372,  102459,   41254,\n",
       "         72805,  507897,   88418, 1040626,   57646,  131117,   91869,\n",
       "         66028,   88418,   95596,   50677,  106717,  126031,   63017,\n",
       "         63516,   68058,  102459,  507897,  118525,   44686,  106244,\n",
       "         47598,  478130,   59689,   72193,   59689,   47672,  654724,\n",
       "        217864,  106717,   34471,  125028,   70070,  482426,   84634,\n",
       "        150655,   38391,   96852,   69810,   71822,   88418,   58436,\n",
       "         68058,   83515,   63731,  360019,   35815,   63690,   43012,\n",
       "         85788,   64102,  674202,  349373,  724132,  100133,   41685,\n",
       "         66094,  102459,  138675,   42040,   10509,  263901,   63690,\n",
       "        370696,   42040,  111921,   54665,   44720,  685813,   50677,\n",
       "         52597,   69471,  109329,   58177,  217864,  449661,   64102,\n",
       "        349373,  334150,   44432,   85788,   44686,   75372,  607642,\n",
       "         30504,   52572,  312800,   28278,   64034,   54665,   90814,\n",
       "        612482,   95596,   23960,  345312,   30504,  109329,   46057,\n",
       "         34128, 1114861,   64173,  430746,  612482,  370696,   74051,\n",
       "         62828,   97158,   14613,   64173,  674202,   96959,   14579,\n",
       "         50717,   18517,  127747,  133177,   19699,   83515,   26849,\n",
       "         97158,   43012,   95470,  253653,  814191,  297763,  449661,\n",
       "        224972,   10108, 1034114,   50677,  364640,  106717,   63690,\n",
       "         16169,  546597,  471434,   65449,  311485,  814191,   50748,\n",
       "         63731,   84634,   14613,   69199,  519230,   79467,  101884,\n",
       "         55806,  238772,   69471,   95470,   34128,  106717,  113425,\n",
       "         59689,   83515,  364810,  134840,  104037,   43012,   63516,\n",
       "         99387,  592182,   50677,   77312, 1071359,  652826,   64034,\n",
       "        364810,   63017,  430746,   34128,   64173,   66527,   65449,\n",
       "         62370,  253653,   88418,  471434,  482221,  349373,   74051,\n",
       "        330768,   14579,   34128,   52402,   66432,  533965,   15004,\n",
       "         38376,  149862,  114210,   34242,  533965, 1034114,   63516,\n",
       "        149862,  109329,   63516,   68783,   72636,   10509,   45759,\n",
       "        370696,  471434,   77312, 1034114,   28430,   15004,  138163,\n",
       "         10509,  101884,   96852,  612482,   71949,   36010,   95470,\n",
       "        263901,  106244,   52572,  122320,  299267,  104108,   26849,\n",
       "         91869,  317624,  143026,   26849,  102405,  991736,  345312,\n",
       "         43180,   69471,   77483,   58177,   46057,   93510,  507897,\n",
       "        593299,  214073], dtype=int64)"
      ]
     },
     "execution_count": 343,
     "metadata": {},
     "output_type": "execute_result"
    }
   ],
   "source": [
    "y_train_pred = model2.predict(X_training_data)\n",
    "y_train_pred"
   ]
  },
  {
   "cell_type": "code",
   "execution_count": 344,
   "metadata": {},
   "outputs": [
    {
     "data": {
      "text/plain": [
       "array([5, 1, 1, 1, 3, 2, 1, 5, 3, 4, 1, 5, 1, 2, 2, 1, 2, 4, 2, 5, 3, 4,\n",
       "       2, 1, 1, 1, 3, 1, 1, 2, 2, 1, 2, 2, 1, 3, 1, 2, 1, 1, 2, 2, 1, 3,\n",
       "       5, 2, 2, 1, 2, 5, 1, 1, 3, 2, 2, 1, 1, 1, 1, 4, 3, 1, 1, 1, 1, 1,\n",
       "       2, 5, 1, 1, 2, 2, 1, 4, 2, 1, 2, 1, 1, 1, 1, 1, 2, 1, 2, 3, 1],\n",
       "      dtype=int64)"
      ]
     },
     "execution_count": 344,
     "metadata": {},
     "output_type": "execute_result"
    }
   ],
   "source": [
    "y_test_predict = model.predict(X_test_data)\n",
    "y_test_predict"
   ]
  },
  {
   "cell_type": "code",
   "execution_count": 345,
   "metadata": {},
   "outputs": [
    {
     "name": "stdout",
     "output_type": "stream",
     "text": [
      "KNN Training MAE: 27460.371014492754, KNN Test MAE: 199378.4712643678\n",
      "KNN Training MSE: 27460.371014492754, KNN Test MSE: 199378.4712643678\n",
      "KNN Training RMSE: 165.71171055327608, KNN Test RMSE: 165.71171055327608\n"
     ]
    }
   ],
   "source": [
    "\n",
    "#Mean Absolute Error:\n",
    "model_train_mae = mean_absolute_error(y_training_data, y_train_pred)\n",
    "model_test_mae = mean_absolute_error(y_test_data, y_test_predict)\n",
    "\n",
    "# Mean Squared Error:\n",
    "model_train_mse = mean_absolute_error(y_training_data, y_train_pred)\n",
    "model_test_mse = mean_absolute_error(y_test_data, y_test_predict)\n",
    "\n",
    "# RMSE\n",
    "model_train_rmse = np.sqrt(model_train_mse)\n",
    "model_test_rmse = np.sqrt(model_test_mse)\n",
    "\n",
    "print(f\"KNN Training MAE: {model_train_mae}, KNN Test MAE: {model_test_mae}\")\n",
    "print(f\"KNN Training MSE: {model_train_mse}, KNN Test MSE: {model_test_mse}\")\n",
    "print(f\"KNN Training RMSE: {model_train_rmse}, KNN Test RMSE: {model_train_rmse}\")"
   ]
  },
  {
   "cell_type": "markdown",
   "metadata": {},
   "source": [
    "## Results of Region KNN\n",
    "| Data | Model Type | K Number | MAE | MSE | RMSE |\n",
    "|:---|:---|:---|:---|:---|:---|\n",
    "|NCVS_Region|Training KNN|k=1|1.252|1.252|1.119|\n",
    "|NCVS_Region|Test KNN|k=1|1.345|1.345|1.119|\n",
    "|NCVS_Region|Training KNN|k=2|0.612|0.612|0.782|\n",
    "|NCVS_Region|Test KNN|k=2|1.368|1.368|0.782|\n",
    "|NCVS_Region|Training KNN|k=3|0.805|0.805|0.898|\n",
    "|NCVS_Region|Test KNN|k=3|1.402|1.402|0.898|\n",
    "\n",
    "When evaluating the performance of this model in terms of training, it performed better than anticipated. However the results do indicate that the model is overfitting the data. When this is combined with the nature of the data consisting of victims, it is important to note that the data is scaled. Scaling will alter these numbers and was done to make the data more uniform. Generally this model performed well in training, especially when k=3, which is an indication that the model does well with the anticipated data but not new data. "
   ]
  },
  {
   "cell_type": "markdown",
   "metadata": {},
   "source": [
    "# Combined Results of AgeSeg and Regional Data:\n",
    "| Data | Model Type | K Number | MAE | MSE | RMSE |\n",
    "|:---|:---|:---|:---|:---|:---|\n",
    "|NCVS_AgeSeg|Training KNN|k=1|0.0|0.0|0.0|\n",
    "|NCVS_AgeSeg|Test KNN|k=1|1.302|1.302|0|\n",
    "|NCVS_AgeSeg|Training KNN|k=2|0.694|0.694|0.833|\n",
    "|NCVS_AgeSeg|Test KNN|k=2|1.151|1.151|0.833|\n",
    "|NCVS_AgeSeg|Training KNN|k=3|0.755|0.755|0.869|\n",
    "|NCVS_AgeSeg|Test KNN|k=3|1.078|1.078|0.869|\n",
    "|NCVS_AgeSeg|Training KNN|k=4|0.768|0.768|0.876|\n",
    "|NCVS_AgeSeg|Test KNN|k=4|1.182|1.182|0.869|\n",
    "|NCVS_AgeSeg|Training KNN|k=5|0.784|0.784|0.885|\n",
    "|NCVS_AgeSeg|Test KNN|k=5|1.192|1.192|0.885|\n",
    "|NCVS_AgeSeg|Training KNN|k=6|0.835|0.835|0.914|\n",
    "|NCVS_AgeSeg|Test KNN|k=6|1.130|1.130|0.914|\n",
    "|NCVS_Region|Training KNN|k=1|1.252|1.252|1.119|\n",
    "|NCVS_Region|Test KNN|k=1|1.345|1.345|1.119|\n",
    "|NCVS_Region|Training KNN|k=2|0.612|0.612|0.782|\n",
    "|NCVS_Region|Test KNN|k=2|1.368|1.368|0.782|\n",
    "|NCVS_Region|Training KNN|k=3|0.805|0.805|0.898|\n",
    "|NCVS_Region|Test KNN|k=3|1.402|1.402|0.898|\n"
   ]
  },
  {
   "cell_type": "markdown",
   "metadata": {},
   "source": [
    "## K-Means Model:\n",
    "There are a number of clustering models used for data anlysis, one of these models is the kmeans model. The objective of the model is to assign data points to clusters, based on proximity to a centroid. By doing so it explores the association between data points based on distance calculations between groups. The model opperates under the assumption that the cluster is spherical in nature, equally size and has similar dencities. Analysizing crime statistics as well as conceptualizing the actual precence of crime in US society, clustering is often used. The reason is that crime classifications are based on a group of characteristics that are requried for a crime to be considered one class or another. As this data is based on catagorical structure, as opposed to an interval clustering is possible. It is important to note that while in the case of crime, is that while Offenses do carry an ordinal weight within socity, this weight is difficult to build into a model without adding an extra layer or catagory. \n",
    "\n",
    "K-Means has limitations, as it performs poorly when clusters are irregular in size, shape and decnity. As the alogrythem itself is based on distance calculations from a centroid, it can be sensitive to the initial placement of a cluster, and even interpret outliers with greater impact than necessary. This is why the analysis begins with K-Means but has an added layer with DBSCAN. \n",
    "\n",
    "# Age Segmentation:"
   ]
  },
  {
   "cell_type": "code",
   "execution_count": 355,
   "metadata": {},
   "outputs": [
    {
     "data": {
      "text/html": [
       "<div>\n",
       "<style scoped>\n",
       "    .dataframe tbody tr th:only-of-type {\n",
       "        vertical-align: middle;\n",
       "    }\n",
       "\n",
       "    .dataframe tbody tr th {\n",
       "        vertical-align: top;\n",
       "    }\n",
       "\n",
       "    .dataframe thead th {\n",
       "        text-align: right;\n",
       "    }\n",
       "</style>\n",
       "<table border=\"1\" class=\"dataframe\">\n",
       "  <thead>\n",
       "    <tr style=\"text-align: right;\">\n",
       "      <th></th>\n",
       "      <th>0</th>\n",
       "      <th>1</th>\n",
       "      <th>2</th>\n",
       "      <th>3</th>\n",
       "      <th>4</th>\n",
       "    </tr>\n",
       "  </thead>\n",
       "  <tbody>\n",
       "    <tr>\n",
       "      <th>0</th>\n",
       "      <td>-1.675247</td>\n",
       "      <td>-1.233905</td>\n",
       "      <td>-1.492819</td>\n",
       "      <td>-0.415364</td>\n",
       "      <td>-0.227085</td>\n",
       "    </tr>\n",
       "    <tr>\n",
       "      <th>1</th>\n",
       "      <td>-1.559712</td>\n",
       "      <td>-1.233905</td>\n",
       "      <td>-1.492819</td>\n",
       "      <td>-0.401682</td>\n",
       "      <td>-0.227085</td>\n",
       "    </tr>\n",
       "    <tr>\n",
       "      <th>2</th>\n",
       "      <td>-1.444178</td>\n",
       "      <td>-1.233905</td>\n",
       "      <td>-1.492819</td>\n",
       "      <td>-0.467381</td>\n",
       "      <td>-0.227085</td>\n",
       "    </tr>\n",
       "    <tr>\n",
       "      <th>3</th>\n",
       "      <td>-1.328644</td>\n",
       "      <td>-1.233905</td>\n",
       "      <td>-1.492819</td>\n",
       "      <td>-0.524113</td>\n",
       "      <td>-0.227085</td>\n",
       "    </tr>\n",
       "    <tr>\n",
       "      <th>4</th>\n",
       "      <td>-1.213110</td>\n",
       "      <td>-1.233905</td>\n",
       "      <td>-1.492819</td>\n",
       "      <td>-0.394710</td>\n",
       "      <td>-0.227085</td>\n",
       "    </tr>\n",
       "  </tbody>\n",
       "</table>\n",
       "</div>"
      ],
      "text/plain": [
       "          0         1         2         3         4\n",
       "0 -1.675247 -1.233905 -1.492819 -0.415364 -0.227085\n",
       "1 -1.559712 -1.233905 -1.492819 -0.401682 -0.227085\n",
       "2 -1.444178 -1.233905 -1.492819 -0.467381 -0.227085\n",
       "3 -1.328644 -1.233905 -1.492819 -0.524113 -0.227085\n",
       "4 -1.213110 -1.233905 -1.492819 -0.394710 -0.227085"
      ]
     },
     "execution_count": 355,
     "metadata": {},
     "output_type": "execute_result"
    }
   ],
   "source": [
    "\n",
    "# Creating a different scaler to standardize data:\n",
    "from sklearn import preprocessing\n",
    "NCVS_AgeSegSC2 = preprocessing.scale(NCVS_AgeSeg)\n",
    "NCVS_AgeSegSC2 = pd.DataFrame(NCVS_AgeSegSC2)\n",
    "NCVS_AgeSegSC2.head()"
   ]
  },
  {
   "cell_type": "code",
   "execution_count": 346,
   "metadata": {},
   "outputs": [
    {
     "name": "stderr",
     "output_type": "stream",
     "text": [
      "c:\\Users\\Tower\\anaconda3\\lib\\site-packages\\sklearn\\cluster\\_kmeans.py:870: FutureWarning: The default value of `n_init` will change from 10 to 'auto' in 1.4. Set the value of `n_init` explicitly to suppress the warning\n",
      "  warnings.warn(\n",
      "c:\\Users\\Tower\\anaconda3\\lib\\site-packages\\sklearn\\cluster\\_kmeans.py:870: FutureWarning: The default value of `n_init` will change from 10 to 'auto' in 1.4. Set the value of `n_init` explicitly to suppress the warning\n",
      "  warnings.warn(\n",
      "c:\\Users\\Tower\\anaconda3\\lib\\site-packages\\sklearn\\cluster\\_kmeans.py:870: FutureWarning: The default value of `n_init` will change from 10 to 'auto' in 1.4. Set the value of `n_init` explicitly to suppress the warning\n",
      "  warnings.warn(\n",
      "c:\\Users\\Tower\\anaconda3\\lib\\site-packages\\sklearn\\cluster\\_kmeans.py:870: FutureWarning: The default value of `n_init` will change from 10 to 'auto' in 1.4. Set the value of `n_init` explicitly to suppress the warning\n",
      "  warnings.warn(\n",
      "c:\\Users\\Tower\\anaconda3\\lib\\site-packages\\sklearn\\cluster\\_kmeans.py:870: FutureWarning: The default value of `n_init` will change from 10 to 'auto' in 1.4. Set the value of `n_init` explicitly to suppress the warning\n",
      "  warnings.warn(\n",
      "c:\\Users\\Tower\\anaconda3\\lib\\site-packages\\sklearn\\cluster\\_kmeans.py:870: FutureWarning: The default value of `n_init` will change from 10 to 'auto' in 1.4. Set the value of `n_init` explicitly to suppress the warning\n",
      "  warnings.warn(\n",
      "c:\\Users\\Tower\\anaconda3\\lib\\site-packages\\sklearn\\cluster\\_kmeans.py:870: FutureWarning: The default value of `n_init` will change from 10 to 'auto' in 1.4. Set the value of `n_init` explicitly to suppress the warning\n",
      "  warnings.warn(\n",
      "c:\\Users\\Tower\\anaconda3\\lib\\site-packages\\sklearn\\cluster\\_kmeans.py:870: FutureWarning: The default value of `n_init` will change from 10 to 'auto' in 1.4. Set the value of `n_init` explicitly to suppress the warning\n",
      "  warnings.warn(\n",
      "c:\\Users\\Tower\\anaconda3\\lib\\site-packages\\sklearn\\cluster\\_kmeans.py:870: FutureWarning: The default value of `n_init` will change from 10 to 'auto' in 1.4. Set the value of `n_init` explicitly to suppress the warning\n",
      "  warnings.warn(\n",
      "c:\\Users\\Tower\\anaconda3\\lib\\site-packages\\sklearn\\cluster\\_kmeans.py:870: FutureWarning: The default value of `n_init` will change from 10 to 'auto' in 1.4. Set the value of `n_init` explicitly to suppress the warning\n",
      "  warnings.warn(\n"
     ]
    },
    {
     "data": {
      "image/png": "[encoded data removed]",
      "text/plain": [
       "<Figure size 2000x1000 with 1 Axes>"
      ]
     },
     "metadata": {},
     "output_type": "display_data"
    }
   ],
   "source": [
    "# Estimating the number of clusters using KMeans:\n",
    "from sklearn.cluster import KMeans\n",
    "import matplotlib.pyplot as plt\n",
    "%matplotlib inline\n",
    "\n",
    "wcss = []\n",
    "for i in range (1, 11):\n",
    "    kmeans = KMeans(n_clusters = i, init = 'k-means++', random_state = 0)\n",
    "    kmeans.fit(NCVS_AgeSeg)\n",
    "    wcss.append(kmeans.inertia_) # establishing criteria for clustering\n",
    "\n",
    "plt.plot(range(1, 11), wcss, 'bx-')\n",
    "plt.title('NCVS AgeSeg Elbow Method')\n",
    "plt.xlabel('Number of Clusters')\n",
    "plt.ylabel('WCSS')\n",
    "plt.show()"
   ]
  },
  {
   "cell_type": "markdown",
   "metadata": {},
   "source": [
    "Based on the elbow provided, the number of clusters appropriate to use with this data is 4. "
   ]
  },
  {
   "cell_type": "code",
   "execution_count": 368,
   "metadata": {},
   "outputs": [
    {
     "data": {
      "text/plain": [
       "array([2, 2, 2, 2, 2, 2, 2, 2, 2, 2, 2, 2, 2, 2, 2, 2, 2, 2, 2, 2, 2, 2,\n",
       "       2, 2, 2, 2, 2, 2, 2, 2, 2, 2, 2, 2, 2, 2, 2, 2, 2, 2, 2, 2, 2, 2,\n",
       "       2, 2, 2, 2, 2, 2, 2, 2, 2, 2, 2, 2, 2, 2, 2, 2, 3, 2, 2, 2, 2, 2,\n",
       "       2, 2, 2, 2, 2, 2, 2, 2, 2, 2, 2, 2, 2, 2, 2, 2, 2, 2, 2, 2, 2, 2,\n",
       "       2, 2, 1, 3, 1, 1, 1, 1, 1, 3, 3, 3, 3, 3, 3, 3, 3, 3, 3, 2, 3, 3,\n",
       "       3, 3, 3, 2, 2, 2, 3, 2, 2, 3, 2, 2, 2, 2, 2, 2, 2, 2, 2, 2, 2, 2,\n",
       "       2, 2, 2, 2, 2, 2, 2, 2, 2, 2, 2, 2, 2, 2, 2, 2, 2, 2, 2, 2, 2, 2,\n",
       "       2, 2, 2, 2, 2, 2, 2, 2, 2, 2, 2, 2, 2, 2, 2, 2, 2, 2, 2, 2, 2, 2,\n",
       "       2, 2, 2, 2, 2, 3, 3, 3, 2, 2, 2, 2, 2, 2, 2, 2, 2, 2, 3, 2, 2, 2,\n",
       "       2, 2, 2, 2, 2, 2, 2, 2, 2, 2, 2, 2, 1, 1, 1, 1, 1, 3, 1, 3, 3, 3,\n",
       "       3, 3, 3, 3, 3, 3, 3, 2, 2, 3, 3, 3, 2, 2, 2, 2, 3, 2, 2, 2, 3, 2,\n",
       "       2, 2, 2, 2, 2, 2, 2, 2, 2, 2, 2, 2, 2, 2, 2, 2, 2, 2, 2, 2, 2, 2,\n",
       "       2, 2, 2, 2, 2, 2, 2, 2, 2, 2, 2, 2, 2, 2, 2, 2, 2, 2, 2, 2, 2, 2,\n",
       "       2, 2, 2, 2, 2, 2, 2, 2, 2, 2, 2, 2, 2, 2, 3, 2, 3, 3, 3, 2, 2, 2,\n",
       "       2, 2, 2, 2, 2, 2, 2, 2, 2, 2, 2, 2, 2, 2, 2, 2, 2, 2, 2, 2, 2, 2,\n",
       "       1, 1, 1, 1, 1, 1, 3, 3, 3, 3, 3, 3, 3, 3, 3, 2, 3, 3, 3, 3, 3, 2,\n",
       "       2, 2, 2, 3, 3, 2, 2, 2, 3, 2, 2, 2, 2, 2, 2, 2, 2, 2, 2, 2, 2, 2,\n",
       "       2, 2, 2, 2, 2, 2, 2, 2, 2, 2, 2, 2, 2, 2, 2, 2, 2, 2, 2, 2, 2, 2,\n",
       "       2, 2, 2, 2, 2, 2, 2, 2, 2, 2, 2, 2, 2, 2, 2, 2, 2, 2, 2, 2, 2, 2,\n",
       "       2, 2, 3, 3, 3, 3, 3, 3, 2, 2, 2, 3, 2, 2, 3, 2, 2, 2, 2, 2, 2, 2,\n",
       "       2, 2, 2, 2, 2, 2, 2, 2, 2, 2, 1, 1, 1, 1, 1, 1, 1, 3, 1, 3, 1, 3,\n",
       "       3, 3, 3, 3, 3, 3, 3, 3, 3, 3, 3, 3, 3, 3, 3, 2, 2, 3, 3, 3, 0, 0,\n",
       "       0, 0, 0, 0, 0, 0, 0, 0, 0, 2, 2, 2, 2, 2, 2, 2, 2, 2, 2, 2, 2, 2,\n",
       "       2, 2, 2, 2, 3, 3, 3, 3, 0, 0, 0, 0, 0, 0, 0, 0, 0, 3, 3, 2, 2, 2,\n",
       "       2, 2, 2, 2, 2, 2, 2, 2, 2, 2, 2, 2, 3, 1, 3, 3, 3, 3, 3, 0, 3, 3,\n",
       "       0, 0, 0, 3, 0, 3, 0, 0, 3, 3, 2, 2, 2, 3, 2, 2, 2, 2, 2, 3, 3, 3,\n",
       "       3, 3, 3, 3, 3, 1, 1, 1, 1, 1, 1, 1, 1, 1, 1, 1, 3, 1, 1, 1, 3, 1,\n",
       "       1, 1, 1, 3, 3, 1, 3, 0, 3, 0, 0, 0, 3, 0, 3, 0, 0, 0, 0, 2, 2, 2,\n",
       "       2, 2, 2, 2, 2, 2, 2, 2, 2, 2, 2, 2, 2, 2, 0, 3, 3, 0, 3, 3, 3, 0,\n",
       "       0, 0, 0, 0, 0, 0, 0, 0, 2, 2, 2, 2, 2, 2, 2, 2, 2, 2, 2, 2, 2, 2,\n",
       "       3, 3, 3, 3, 3, 3, 3, 3, 3, 3, 0, 3, 0, 3, 3, 0, 0, 0, 2, 3, 2, 3,\n",
       "       3, 2, 2, 3, 2, 2, 2, 3, 3, 3, 3, 3, 3, 3, 3, 1, 1, 1, 1, 1, 1, 1,\n",
       "       1, 1, 1, 1, 1, 1, 1, 1, 1, 1, 1, 1, 1, 1, 1, 1, 0, 0, 0, 0, 0, 0,\n",
       "       0, 0, 0, 0, 0, 0, 0, 0, 0, 0, 0, 0, 0, 0, 0, 0, 0, 0, 0, 0, 0, 0,\n",
       "       0, 0, 0, 0, 0, 0, 0, 0, 0, 0, 0, 0, 0, 0, 0, 0, 0, 0, 0, 0, 0, 0,\n",
       "       0, 0, 0, 0, 0, 0, 0, 0, 0, 0, 0, 0, 0, 0, 0, 0, 0, 0, 0, 0, 0, 0,\n",
       "       0, 0, 0, 0, 3, 0, 0, 0, 0, 0, 3, 0, 0, 0, 0, 0, 0, 0, 3, 3, 3, 3,\n",
       "       3, 3, 3, 1, 3, 3, 3, 3, 3, 3, 3, 3, 3, 3, 3, 1, 1, 1, 3, 1, 1, 1,\n",
       "       1, 1, 1, 3, 0, 0, 0, 0, 0, 0, 0, 0, 0, 0, 0, 0, 0, 0, 0, 0, 0, 0,\n",
       "       0, 0, 0, 0, 0, 0, 0, 0, 0, 0, 0, 0, 0, 0, 0, 0, 0, 0, 0, 0, 0, 0,\n",
       "       0, 0, 0, 0, 0, 0, 0, 0, 0, 0, 0, 0, 0, 0, 0, 0, 0, 0, 0, 0, 0, 0,\n",
       "       0, 0, 0, 0, 0, 0, 0, 0, 0, 0, 0, 0, 0, 0, 0, 0, 0, 0, 0, 0, 0, 0,\n",
       "       0, 0, 0, 0, 0, 0, 0, 0, 0, 0, 0, 0, 0, 0, 0, 0, 0, 0, 0, 0, 0, 0,\n",
       "       0, 0, 0, 0, 0, 0, 3, 0, 3, 0, 0, 0, 0, 3])"
      ]
     },
     "execution_count": 368,
     "metadata": {},
     "output_type": "execute_result"
    }
   ],
   "source": [
    "# Creating the model to analysize the data:\n",
    "y_kmeansAg = KMeans(n_clusters=4, init='k-means++', max_iter=300, n_init=10, random_state=0)\n",
    "y_kmeansAg= y_kmeansAg.fit_predict(NCVS_AgeSegSC2)\n",
    "y_kmeansAg"
   ]
  },
  {
   "cell_type": "code",
   "execution_count": 387,
   "metadata": {},
   "outputs": [
    {
     "data": {
      "text/html": [
       "<div>\n",
       "<style scoped>\n",
       "    .dataframe tbody tr th:only-of-type {\n",
       "        vertical-align: middle;\n",
       "    }\n",
       "\n",
       "    .dataframe tbody tr th {\n",
       "        vertical-align: top;\n",
       "    }\n",
       "\n",
       "    .dataframe thead th {\n",
       "        text-align: right;\n",
       "    }\n",
       "</style>\n",
       "<table border=\"1\" class=\"dataframe\">\n",
       "  <thead>\n",
       "    <tr style=\"text-align: right;\">\n",
       "      <th></th>\n",
       "      <th>rpt_dt</th>\n",
       "      <th>age_gm</th>\n",
       "      <th>ncic</th>\n",
       "      <th>vic_num</th>\n",
       "    </tr>\n",
       "    <tr>\n",
       "      <th>cluster</th>\n",
       "      <th></th>\n",
       "      <th></th>\n",
       "      <th></th>\n",
       "      <th></th>\n",
       "    </tr>\n",
       "  </thead>\n",
       "  <tbody>\n",
       "    <tr>\n",
       "      <th>0</th>\n",
       "      <td>2006.2</td>\n",
       "      <td>4.3</td>\n",
       "      <td>1208.9</td>\n",
       "      <td>39357.9</td>\n",
       "    </tr>\n",
       "    <tr>\n",
       "      <th>1</th>\n",
       "      <td>2006.0</td>\n",
       "      <td>2.6</td>\n",
       "      <td>1312.8</td>\n",
       "      <td>454376.5</td>\n",
       "    </tr>\n",
       "    <tr>\n",
       "      <th>2</th>\n",
       "      <td>2009.8</td>\n",
       "      <td>1.7</td>\n",
       "      <td>1199.6</td>\n",
       "      <td>45853.3</td>\n",
       "    </tr>\n",
       "    <tr>\n",
       "      <th>3</th>\n",
       "      <td>2004.2</td>\n",
       "      <td>2.5</td>\n",
       "      <td>1293.2</td>\n",
       "      <td>264843.6</td>\n",
       "    </tr>\n",
       "  </tbody>\n",
       "</table>\n",
       "</div>"
      ],
      "text/plain": [
       "         rpt_dt  age_gm    ncic   vic_num\n",
       "cluster                                  \n",
       "0        2006.2     4.3  1208.9   39357.9\n",
       "1        2006.0     2.6  1312.8  454376.5\n",
       "2        2009.8     1.7  1199.6   45853.3\n",
       "3        2004.2     2.5  1293.2  264843.6"
      ]
     },
     "execution_count": 387,
     "metadata": {},
     "output_type": "execute_result"
    }
   ],
   "source": [
    "cluster = list(y_kmeansAg)\n",
    "NCVS_AgeSeg['cluster'] = cluster\n",
    "\n",
    "# mean of clusters 1-4\n",
    "kmeans_mean_cluster = pd.DataFrame(round(NCVS_AgeSeg.groupby('cluster').mean(),1))\n",
    "kmeans_mean_cluster"
   ]
  },
  {
   "cell_type": "code",
   "execution_count": 388,
   "metadata": {},
   "outputs": [
    {
     "ename": "ValueError",
     "evalue": "could not convert string to float: 'age_gm'",
     "output_type": "error",
     "traceback": [
      "\u001b[1;31m---------------------------------------------------------------------------\u001b[0m",
      "\u001b[1;31mValueError\u001b[0m                                Traceback (most recent call last)",
      "\u001b[1;32m~\\AppData\\Local\\Temp\\ipykernel_12888\\330129404.py\u001b[0m in \u001b[0;36m<module>\u001b[1;34m\u001b[0m\n\u001b[0;32m      2\u001b[0m \u001b[1;32mimport\u001b[0m \u001b[0mmatplotlib\u001b[0m\u001b[1;33m.\u001b[0m\u001b[0mpyplot\u001b[0m \u001b[1;32mas\u001b[0m \u001b[0mplt\u001b[0m\u001b[1;33m\u001b[0m\u001b[1;33m\u001b[0m\u001b[0m\n\u001b[0;32m      3\u001b[0m \u001b[0mkmeansAg\u001b[0m\u001b[1;33m=\u001b[0m\u001b[0mKMeans\u001b[0m\u001b[1;33m(\u001b[0m\u001b[0mn_clusters\u001b[0m\u001b[1;33m=\u001b[0m\u001b[1;36m4\u001b[0m\u001b[1;33m,\u001b[0m \u001b[0minit\u001b[0m\u001b[1;33m=\u001b[0m\u001b[1;34m'k-means++'\u001b[0m\u001b[1;33m,\u001b[0m \u001b[0mmax_iter\u001b[0m\u001b[1;33m=\u001b[0m\u001b[1;36m300\u001b[0m\u001b[1;33m,\u001b[0m \u001b[0mn_init\u001b[0m\u001b[1;33m=\u001b[0m\u001b[1;36m1\u001b[0m\u001b[1;33m,\u001b[0m \u001b[0mrandom_state\u001b[0m\u001b[1;33m=\u001b[0m\u001b[1;36m0\u001b[0m\u001b[1;33m)\u001b[0m\u001b[1;33m\u001b[0m\u001b[1;33m\u001b[0m\u001b[0m\n\u001b[1;32m----> 4\u001b[1;33m \u001b[0mpred_y\u001b[0m \u001b[1;33m=\u001b[0m \u001b[0mkmeans\u001b[0m\u001b[1;33m.\u001b[0m\u001b[0mfit_predict\u001b[0m\u001b[1;33m(\u001b[0m\u001b[0mX\u001b[0m\u001b[1;33m)\u001b[0m\u001b[1;33m\u001b[0m\u001b[1;33m\u001b[0m\u001b[0m\n\u001b[0m\u001b[0;32m      5\u001b[0m \u001b[0mplt\u001b[0m\u001b[1;33m.\u001b[0m\u001b[0mscatter\u001b[0m\u001b[1;33m(\u001b[0m\u001b[0mX\u001b[0m\u001b[1;33m[\u001b[0m\u001b[1;33m:\u001b[0m\u001b[1;33m,\u001b[0m \u001b[1;36m0\u001b[0m\u001b[1;33m]\u001b[0m\u001b[1;33m,\u001b[0m \u001b[0mX\u001b[0m\u001b[1;33m[\u001b[0m\u001b[1;33m:\u001b[0m\u001b[1;33m,\u001b[0m \u001b[1;36m1\u001b[0m\u001b[1;33m]\u001b[0m\u001b[1;33m)\u001b[0m\u001b[1;33m\u001b[0m\u001b[1;33m\u001b[0m\u001b[0m\n\u001b[0;32m      6\u001b[0m \u001b[0mplt\u001b[0m\u001b[1;33m.\u001b[0m\u001b[0mscatter\u001b[0m\u001b[1;33m(\u001b[0m\u001b[0mkmeans\u001b[0m\u001b[1;33m.\u001b[0m\u001b[0mcluster_centers_\u001b[0m\u001b[1;33m[\u001b[0m\u001b[1;33m:\u001b[0m\u001b[1;33m,\u001b[0m \u001b[1;36m0\u001b[0m\u001b[1;33m]\u001b[0m\u001b[1;33m,\u001b[0m \u001b[0mkmeans\u001b[0m\u001b[1;33m.\u001b[0m\u001b[0mcluster_centers_\u001b[0m\u001b[1;33m[\u001b[0m\u001b[1;33m:\u001b[0m\u001b[1;33m,\u001b[0m \u001b[1;36m1\u001b[0m\u001b[1;33m]\u001b[0m\u001b[1;33m,\u001b[0m \u001b[0ms\u001b[0m\u001b[1;33m=\u001b[0m\u001b[1;36m300\u001b[0m\u001b[1;33m,\u001b[0m \u001b[0mc\u001b[0m\u001b[1;33m=\u001b[0m\u001b[1;34m'red'\u001b[0m\u001b[1;33m)\u001b[0m\u001b[1;33m\u001b[0m\u001b[1;33m\u001b[0m\u001b[0m\n",
      "\u001b[1;32mc:\\Users\\Tower\\anaconda3\\lib\\site-packages\\sklearn\\cluster\\_kmeans.py\u001b[0m in \u001b[0;36mfit_predict\u001b[1;34m(self, X, y, sample_weight)\u001b[0m\n\u001b[0;32m   1031\u001b[0m             \u001b[0mIndex\u001b[0m \u001b[0mof\u001b[0m \u001b[0mthe\u001b[0m \u001b[0mcluster\u001b[0m \u001b[0meach\u001b[0m \u001b[0msample\u001b[0m \u001b[0mbelongs\u001b[0m \u001b[0mto\u001b[0m\u001b[1;33m.\u001b[0m\u001b[1;33m\u001b[0m\u001b[1;33m\u001b[0m\u001b[0m\n\u001b[0;32m   1032\u001b[0m         \"\"\"\n\u001b[1;32m-> 1033\u001b[1;33m         \u001b[1;32mreturn\u001b[0m \u001b[0mself\u001b[0m\u001b[1;33m.\u001b[0m\u001b[0mfit\u001b[0m\u001b[1;33m(\u001b[0m\u001b[0mX\u001b[0m\u001b[1;33m,\u001b[0m \u001b[0msample_weight\u001b[0m\u001b[1;33m=\u001b[0m\u001b[0msample_weight\u001b[0m\u001b[1;33m)\u001b[0m\u001b[1;33m.\u001b[0m\u001b[0mlabels_\u001b[0m\u001b[1;33m\u001b[0m\u001b[1;33m\u001b[0m\u001b[0m\n\u001b[0m\u001b[0;32m   1034\u001b[0m \u001b[1;33m\u001b[0m\u001b[0m\n\u001b[0;32m   1035\u001b[0m     \u001b[1;32mdef\u001b[0m \u001b[0mpredict\u001b[0m\u001b[1;33m(\u001b[0m\u001b[0mself\u001b[0m\u001b[1;33m,\u001b[0m \u001b[0mX\u001b[0m\u001b[1;33m,\u001b[0m \u001b[0msample_weight\u001b[0m\u001b[1;33m=\u001b[0m\u001b[1;32mNone\u001b[0m\u001b[1;33m)\u001b[0m\u001b[1;33m:\u001b[0m\u001b[1;33m\u001b[0m\u001b[1;33m\u001b[0m\u001b[0m\n",
      "\u001b[1;32mc:\\Users\\Tower\\anaconda3\\lib\\site-packages\\sklearn\\cluster\\_kmeans.py\u001b[0m in \u001b[0;36mfit\u001b[1;34m(self, X, y, sample_weight)\u001b[0m\n\u001b[0;32m   1415\u001b[0m         \u001b[0mself\u001b[0m\u001b[1;33m.\u001b[0m\u001b[0m_validate_params\u001b[0m\u001b[1;33m(\u001b[0m\u001b[1;33m)\u001b[0m\u001b[1;33m\u001b[0m\u001b[1;33m\u001b[0m\u001b[0m\n\u001b[0;32m   1416\u001b[0m \u001b[1;33m\u001b[0m\u001b[0m\n\u001b[1;32m-> 1417\u001b[1;33m         X = self._validate_data(\n\u001b[0m\u001b[0;32m   1418\u001b[0m             \u001b[0mX\u001b[0m\u001b[1;33m,\u001b[0m\u001b[1;33m\u001b[0m\u001b[1;33m\u001b[0m\u001b[0m\n\u001b[0;32m   1419\u001b[0m             \u001b[0maccept_sparse\u001b[0m\u001b[1;33m=\u001b[0m\u001b[1;34m\"csr\"\u001b[0m\u001b[1;33m,\u001b[0m\u001b[1;33m\u001b[0m\u001b[1;33m\u001b[0m\u001b[0m\n",
      "\u001b[1;32mc:\\Users\\Tower\\anaconda3\\lib\\site-packages\\sklearn\\base.py\u001b[0m in \u001b[0;36m_validate_data\u001b[1;34m(self, X, y, reset, validate_separately, **check_params)\u001b[0m\n\u001b[0;32m    544\u001b[0m             \u001b[1;32mraise\u001b[0m \u001b[0mValueError\u001b[0m\u001b[1;33m(\u001b[0m\u001b[1;34m\"Validation should be done on X, y or both.\"\u001b[0m\u001b[1;33m)\u001b[0m\u001b[1;33m\u001b[0m\u001b[1;33m\u001b[0m\u001b[0m\n\u001b[0;32m    545\u001b[0m         \u001b[1;32melif\u001b[0m \u001b[1;32mnot\u001b[0m \u001b[0mno_val_X\u001b[0m \u001b[1;32mand\u001b[0m \u001b[0mno_val_y\u001b[0m\u001b[1;33m:\u001b[0m\u001b[1;33m\u001b[0m\u001b[1;33m\u001b[0m\u001b[0m\n\u001b[1;32m--> 546\u001b[1;33m             \u001b[0mX\u001b[0m \u001b[1;33m=\u001b[0m \u001b[0mcheck_array\u001b[0m\u001b[1;33m(\u001b[0m\u001b[0mX\u001b[0m\u001b[1;33m,\u001b[0m \u001b[0minput_name\u001b[0m\u001b[1;33m=\u001b[0m\u001b[1;34m\"X\"\u001b[0m\u001b[1;33m,\u001b[0m \u001b[1;33m**\u001b[0m\u001b[0mcheck_params\u001b[0m\u001b[1;33m)\u001b[0m\u001b[1;33m\u001b[0m\u001b[1;33m\u001b[0m\u001b[0m\n\u001b[0m\u001b[0;32m    547\u001b[0m             \u001b[0mout\u001b[0m \u001b[1;33m=\u001b[0m \u001b[0mX\u001b[0m\u001b[1;33m\u001b[0m\u001b[1;33m\u001b[0m\u001b[0m\n\u001b[0;32m    548\u001b[0m         \u001b[1;32melif\u001b[0m \u001b[0mno_val_X\u001b[0m \u001b[1;32mand\u001b[0m \u001b[1;32mnot\u001b[0m \u001b[0mno_val_y\u001b[0m\u001b[1;33m:\u001b[0m\u001b[1;33m\u001b[0m\u001b[1;33m\u001b[0m\u001b[0m\n",
      "\u001b[1;32mc:\\Users\\Tower\\anaconda3\\lib\\site-packages\\sklearn\\utils\\validation.py\u001b[0m in \u001b[0;36mcheck_array\u001b[1;34m(array, accept_sparse, accept_large_sparse, dtype, order, copy, force_all_finite, ensure_2d, allow_nd, ensure_min_samples, ensure_min_features, estimator, input_name)\u001b[0m\n\u001b[0;32m    877\u001b[0m                     \u001b[0marray\u001b[0m \u001b[1;33m=\u001b[0m \u001b[0mxp\u001b[0m\u001b[1;33m.\u001b[0m\u001b[0mastype\u001b[0m\u001b[1;33m(\u001b[0m\u001b[0marray\u001b[0m\u001b[1;33m,\u001b[0m \u001b[0mdtype\u001b[0m\u001b[1;33m,\u001b[0m \u001b[0mcopy\u001b[0m\u001b[1;33m=\u001b[0m\u001b[1;32mFalse\u001b[0m\u001b[1;33m)\u001b[0m\u001b[1;33m\u001b[0m\u001b[1;33m\u001b[0m\u001b[0m\n\u001b[0;32m    878\u001b[0m                 \u001b[1;32melse\u001b[0m\u001b[1;33m:\u001b[0m\u001b[1;33m\u001b[0m\u001b[1;33m\u001b[0m\u001b[0m\n\u001b[1;32m--> 879\u001b[1;33m                     \u001b[0marray\u001b[0m \u001b[1;33m=\u001b[0m \u001b[0m_asarray_with_order\u001b[0m\u001b[1;33m(\u001b[0m\u001b[0marray\u001b[0m\u001b[1;33m,\u001b[0m \u001b[0morder\u001b[0m\u001b[1;33m=\u001b[0m\u001b[0morder\u001b[0m\u001b[1;33m,\u001b[0m \u001b[0mdtype\u001b[0m\u001b[1;33m=\u001b[0m\u001b[0mdtype\u001b[0m\u001b[1;33m,\u001b[0m \u001b[0mxp\u001b[0m\u001b[1;33m=\u001b[0m\u001b[0mxp\u001b[0m\u001b[1;33m)\u001b[0m\u001b[1;33m\u001b[0m\u001b[1;33m\u001b[0m\u001b[0m\n\u001b[0m\u001b[0;32m    880\u001b[0m             \u001b[1;32mexcept\u001b[0m \u001b[0mComplexWarning\u001b[0m \u001b[1;32mas\u001b[0m \u001b[0mcomplex_warning\u001b[0m\u001b[1;33m:\u001b[0m\u001b[1;33m\u001b[0m\u001b[1;33m\u001b[0m\u001b[0m\n\u001b[0;32m    881\u001b[0m                 raise ValueError(\n",
      "\u001b[1;32mc:\\Users\\Tower\\anaconda3\\lib\\site-packages\\sklearn\\utils\\_array_api.py\u001b[0m in \u001b[0;36m_asarray_with_order\u001b[1;34m(array, dtype, order, copy, xp)\u001b[0m\n\u001b[0;32m    183\u001b[0m     \u001b[1;32mif\u001b[0m \u001b[0mxp\u001b[0m\u001b[1;33m.\u001b[0m\u001b[0m__name__\u001b[0m \u001b[1;32min\u001b[0m \u001b[1;33m{\u001b[0m\u001b[1;34m\"numpy\"\u001b[0m\u001b[1;33m,\u001b[0m \u001b[1;34m\"numpy.array_api\"\u001b[0m\u001b[1;33m}\u001b[0m\u001b[1;33m:\u001b[0m\u001b[1;33m\u001b[0m\u001b[1;33m\u001b[0m\u001b[0m\n\u001b[0;32m    184\u001b[0m         \u001b[1;31m# Use NumPy API to support order\u001b[0m\u001b[1;33m\u001b[0m\u001b[1;33m\u001b[0m\u001b[0m\n\u001b[1;32m--> 185\u001b[1;33m         \u001b[0marray\u001b[0m \u001b[1;33m=\u001b[0m \u001b[0mnumpy\u001b[0m\u001b[1;33m.\u001b[0m\u001b[0masarray\u001b[0m\u001b[1;33m(\u001b[0m\u001b[0marray\u001b[0m\u001b[1;33m,\u001b[0m \u001b[0morder\u001b[0m\u001b[1;33m=\u001b[0m\u001b[0morder\u001b[0m\u001b[1;33m,\u001b[0m \u001b[0mdtype\u001b[0m\u001b[1;33m=\u001b[0m\u001b[0mdtype\u001b[0m\u001b[1;33m)\u001b[0m\u001b[1;33m\u001b[0m\u001b[1;33m\u001b[0m\u001b[0m\n\u001b[0m\u001b[0;32m    186\u001b[0m         \u001b[1;32mreturn\u001b[0m \u001b[0mxp\u001b[0m\u001b[1;33m.\u001b[0m\u001b[0masarray\u001b[0m\u001b[1;33m(\u001b[0m\u001b[0marray\u001b[0m\u001b[1;33m,\u001b[0m \u001b[0mcopy\u001b[0m\u001b[1;33m=\u001b[0m\u001b[0mcopy\u001b[0m\u001b[1;33m)\u001b[0m\u001b[1;33m\u001b[0m\u001b[1;33m\u001b[0m\u001b[0m\n\u001b[0;32m    187\u001b[0m     \u001b[1;32melse\u001b[0m\u001b[1;33m:\u001b[0m\u001b[1;33m\u001b[0m\u001b[1;33m\u001b[0m\u001b[0m\n",
      "\u001b[1;31mValueError\u001b[0m: could not convert string to float: 'age_gm'"
     ]
    }
   ],
   "source": [
    "# Creating a Scatter Plot\n",
    "import matplotlib.pyplot as plt\n",
    "kmeansAg=KMeans(n_clusters=4, init='k-means++', max_iter=300, n_init=1, random_state=0)\n",
    "pred_y = kmeans.fit_predict(X)\n",
    "plt.scatter(X[:, 0], X[:, 1])\n",
    "plt.scatter(kmeans.cluster_centers_[:, 0], kmeans.cluster_centers_[:, 1], s=300, c='red')\n",
    "plt.show()\n"
   ]
  },
  {
   "cell_type": "markdown",
   "metadata": {},
   "source": [
    "As noted the data in this case doesn't cluster well as there are too few data instances accross the age groups to perform this type of analysis. Additionally as all of this data is drastic when comparing age groups to the number of victims, when scaling is applied it distorts the data. "
   ]
  }
 ],
 "metadata": {
  "kernelspec": {
   "display_name": "Python 3 (ipykernel)",
   "language": "python",
   "name": "python3"
  },
  "language_info": {
   "codemirror_mode": {
    "name": "ipython",
    "version": 3
   },
   "file_extension": ".py",
   "mimetype": "text/x-python",
   "name": "python",
   "nbconvert_exporter": "python",
   "pygments_lexer": "ipython3",
   "version": "3.9.16"
  }
 },
 "nbformat": 4,
 "nbformat_minor": 5
}
